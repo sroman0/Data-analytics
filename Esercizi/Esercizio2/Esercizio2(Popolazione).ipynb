{
 "cells": [
  {
   "cell_type": "markdown",
   "id": "95926ee7-4451-48db-9bb4-c4d70941016c",
   "metadata": {},
   "source": [
    "Leggiamo e rappresentiamo un dataset"
   ]
  },
  {
   "cell_type": "code",
   "execution_count": 1,
   "id": "49de1ddb-07b5-468d-8d6e-d325c80bc5c9",
   "metadata": {
    "scrolled": true,
    "tags": [],
    "ExecuteTime": {
     "end_time": "2024-04-16T13:32:41.582854500Z",
     "start_time": "2024-04-16T13:32:35.772319200Z"
    }
   },
   "outputs": [
    {
     "data": {
      "text/plain": "   Codice regione   Regione Età    Sesso  Popolazione\n0             1.0  Piemonte   0   Totale      28544.0\n1             1.0  Piemonte   0   Maschi      14656.0\n2             1.0  Piemonte   0  Femmine      13888.0\n3             1.0  Piemonte   1   Totale      29793.0\n4             1.0  Piemonte   1   Maschi      15269.0",
      "text/html": "<div>\n<style scoped>\n    .dataframe tbody tr th:only-of-type {\n        vertical-align: middle;\n    }\n\n    .dataframe tbody tr th {\n        vertical-align: top;\n    }\n\n    .dataframe thead th {\n        text-align: right;\n    }\n</style>\n<table border=\"1\" class=\"dataframe\">\n  <thead>\n    <tr style=\"text-align: right;\">\n      <th></th>\n      <th>Codice regione</th>\n      <th>Regione</th>\n      <th>Età</th>\n      <th>Sesso</th>\n      <th>Popolazione</th>\n    </tr>\n  </thead>\n  <tbody>\n    <tr>\n      <th>0</th>\n      <td>1.0</td>\n      <td>Piemonte</td>\n      <td>0</td>\n      <td>Totale</td>\n      <td>28544.0</td>\n    </tr>\n    <tr>\n      <th>1</th>\n      <td>1.0</td>\n      <td>Piemonte</td>\n      <td>0</td>\n      <td>Maschi</td>\n      <td>14656.0</td>\n    </tr>\n    <tr>\n      <th>2</th>\n      <td>1.0</td>\n      <td>Piemonte</td>\n      <td>0</td>\n      <td>Femmine</td>\n      <td>13888.0</td>\n    </tr>\n    <tr>\n      <th>3</th>\n      <td>1.0</td>\n      <td>Piemonte</td>\n      <td>1</td>\n      <td>Totale</td>\n      <td>29793.0</td>\n    </tr>\n    <tr>\n      <th>4</th>\n      <td>1.0</td>\n      <td>Piemonte</td>\n      <td>1</td>\n      <td>Maschi</td>\n      <td>15269.0</td>\n    </tr>\n  </tbody>\n</table>\n</div>"
     },
     "execution_count": 1,
     "metadata": {},
     "output_type": "execute_result"
    }
   ],
   "source": [
    "import pandas as pd\n",
    "import matplotlib.pyplot as plt\n",
    "import numpy as np\n",
    "\n",
    "df = pd.read_csv('Ricostruzione della popolazione 2002-2019.csv', encoding='latin-1', sep=';')\n",
    "df.head()"
   ]
  },
  {
   "cell_type": "code",
   "execution_count": 2,
   "id": "7706ba7b-6c60-406b-91a0-b048c621c8c7",
   "metadata": {},
   "outputs": [
    {
     "name": "stdout",
     "output_type": "stream",
     "text": [
      "<class 'pandas.core.frame.DataFrame'>\n",
      "RangeIndex: 6061 entries, 0 to 6060\n",
      "Data columns (total 5 columns):\n",
      " #   Column          Non-Null Count  Dtype  \n",
      "---  ------          --------------  -----  \n",
      " 0   Codice regione  6060 non-null   float64\n",
      " 1   Regione         6060 non-null   object \n",
      " 2   Età             6060 non-null   object \n",
      " 3   Sesso           6060 non-null   object \n",
      " 4   Popolazione     6060 non-null   float64\n",
      "dtypes: float64(2), object(3)\n",
      "memory usage: 236.9+ KB\n"
     ]
    }
   ],
   "source": [
    "df.info()"
   ]
  },
  {
   "cell_type": "code",
   "execution_count": 2,
   "id": "47f41ae3-6ce5-4041-8e44-6f5c3d71764c",
   "metadata": {
    "scrolled": true,
    "tags": []
   },
   "outputs": [
    {
     "data": {
      "text/plain": [
       "Codice regione    float64\n",
       "Regione            object\n",
       "Età                object\n",
       "Sesso              object\n",
       "Popolazione       float64\n",
       "dtype: object"
      ]
     },
     "execution_count": 2,
     "metadata": {},
     "output_type": "execute_result"
    }
   ],
   "source": [
    "df.dtypes"
   ]
  },
  {
   "cell_type": "markdown",
   "id": "22eb4e86-69e6-4afb-aaec-ef25c6ca7568",
   "metadata": {},
   "source": [
    "Procedo con preprocessare i dati.\n",
    "\n",
    "Voglio convertire i tipi delle serie ma noto che nella colonna dell'età e della Popolazione ci sono oggetti non formattabili"
   ]
  },
  {
   "cell_type": "code",
   "execution_count": 3,
   "id": "3102dbd7-153e-47f9-8fff-e352c26e4021",
   "metadata": {
    "tags": []
   },
   "outputs": [
    {
     "data": {
      "text/plain": [
       "1"
      ]
     },
     "execution_count": 3,
     "metadata": {},
     "output_type": "execute_result"
    }
   ],
   "source": [
    "df['Età'] = df['Età'].replace('100 e oltre', '100')\n",
    "df['Età'].isna().sum()"
   ]
  },
  {
   "cell_type": "code",
   "execution_count": 4,
   "id": "8d945b61-dcda-495a-b3ac-bb149e373b3d",
   "metadata": {
    "tags": []
   },
   "outputs": [
    {
     "data": {
      "text/plain": [
       "0"
      ]
     },
     "execution_count": 4,
     "metadata": {},
     "output_type": "execute_result"
    }
   ],
   "source": [
    "df['Età'] = df['Età'].fillna('100')\n",
    "df['Età'].isna().sum()"
   ]
  },
  {
   "cell_type": "code",
   "execution_count": 5,
   "id": "a2b50e93-0fbd-47e5-8f99-b36f9b3d3c27",
   "metadata": {
    "tags": []
   },
   "outputs": [
    {
     "data": {
      "text/plain": [
       "0"
      ]
     },
     "execution_count": 5,
     "metadata": {},
     "output_type": "execute_result"
    }
   ],
   "source": [
    "np.isinf(df['Popolazione']).sum()"
   ]
  },
  {
   "cell_type": "code",
   "execution_count": 6,
   "id": "13f2a418-f744-448c-bc18-c89b0e56f8fd",
   "metadata": {
    "tags": []
   },
   "outputs": [
    {
     "data": {
      "text/html": [
       "<div>\n",
       "<style scoped>\n",
       "    .dataframe tbody tr th:only-of-type {\n",
       "        vertical-align: middle;\n",
       "    }\n",
       "\n",
       "    .dataframe tbody tr th {\n",
       "        vertical-align: top;\n",
       "    }\n",
       "\n",
       "    .dataframe thead th {\n",
       "        text-align: right;\n",
       "    }\n",
       "</style>\n",
       "<table border=\"1\" class=\"dataframe\">\n",
       "  <thead>\n",
       "    <tr style=\"text-align: right;\">\n",
       "      <th></th>\n",
       "      <th>Codice regione</th>\n",
       "      <th>Regione</th>\n",
       "      <th>Età</th>\n",
       "      <th>Sesso</th>\n",
       "      <th>Popolazione</th>\n",
       "    </tr>\n",
       "  </thead>\n",
       "  <tbody>\n",
       "    <tr>\n",
       "      <th>6060</th>\n",
       "      <td>NaN</td>\n",
       "      <td>NaN</td>\n",
       "      <td>100</td>\n",
       "      <td>NaN</td>\n",
       "      <td>NaN</td>\n",
       "    </tr>\n",
       "  </tbody>\n",
       "</table>\n",
       "</div>"
      ],
      "text/plain": [
       "      Codice regione Regione  Età Sesso  Popolazione\n",
       "6060             NaN     NaN  100   NaN          NaN"
      ]
     },
     "execution_count": 6,
     "metadata": {},
     "output_type": "execute_result"
    }
   ],
   "source": [
    "x = df[df['Popolazione'].isna()]\n",
    "x"
   ]
  },
  {
   "cell_type": "markdown",
   "id": "dab03a9d-adbb-4f22-a68f-6ec30c8cd70e",
   "metadata": {},
   "source": [
    "La riga appena visualizzata non aggiunge alcun tipo di informazione e dà problemi , la droppo"
   ]
  },
  {
   "cell_type": "code",
   "execution_count": 7,
   "id": "ec3f1dbb-bb99-4e74-8271-fa46ae496daf",
   "metadata": {
    "tags": []
   },
   "outputs": [
    {
     "data": {
      "text/plain": [
       "0"
      ]
     },
     "execution_count": 7,
     "metadata": {},
     "output_type": "execute_result"
    }
   ],
   "source": [
    "df = df.drop(6060)\n",
    "df['Popolazione'].isna().sum()"
   ]
  },
  {
   "cell_type": "code",
   "execution_count": 8,
   "id": "fa8477f2-c7be-4d1e-826e-0285e68fb3fc",
   "metadata": {
    "tags": []
   },
   "outputs": [
    {
     "data": {
      "text/plain": [
       "Codice regione    float64\n",
       "Regione            object\n",
       "Età                 int32\n",
       "Sesso              object\n",
       "Popolazione         int32\n",
       "dtype: object"
      ]
     },
     "execution_count": 8,
     "metadata": {},
     "output_type": "execute_result"
    }
   ],
   "source": [
    "df['Età'] = df['Età'].astype(int)\n",
    "df['Popolazione'] = df['Popolazione'].astype(int)\n",
    "df.dtypes"
   ]
  },
  {
   "cell_type": "markdown",
   "id": "8316866e-01c4-42ca-b081-3bc12a9e931c",
   "metadata": {
    "tags": []
   },
   "source": [
    "Provo a capire perché non mi trasforma 'Regione' e 'Sesso' in stringa"
   ]
  },
  {
   "cell_type": "code",
   "execution_count": 9,
   "id": "51a8fffe-5bab-4b7d-9ce0-e6f1dd8bac77",
   "metadata": {
    "tags": []
   },
   "outputs": [
    {
     "data": {
      "text/plain": [
       "array(['Piemonte', \"Valle D'Aosta/Vallée D'Aoste\", 'Lombardia',\n",
       "       'Trentino-Alto Adige/Südtirol', 'Veneto', 'Friuli-Venezia Giulia',\n",
       "       'Liguria', 'Emilia-Romagna', 'Toscana', 'Umbria', 'Marche',\n",
       "       'Lazio', 'Abruzzo', 'Molise', 'Campania', 'Puglia', 'Basilicata',\n",
       "       'Calabria', 'Sicilia', 'Sardegna'], dtype=object)"
      ]
     },
     "execution_count": 9,
     "metadata": {},
     "output_type": "execute_result"
    }
   ],
   "source": [
    "df['Regione'].unique()"
   ]
  },
  {
   "cell_type": "code",
   "execution_count": 10,
   "id": "a336c722-1fad-46d9-b8bd-f62142449982",
   "metadata": {
    "tags": []
   },
   "outputs": [
    {
     "data": {
      "text/plain": [
       "array(['Totale', 'Maschi', 'Femmine'], dtype=object)"
      ]
     },
     "execution_count": 10,
     "metadata": {},
     "output_type": "execute_result"
    }
   ],
   "source": [
    "df['Sesso'].unique()"
   ]
  },
  {
   "cell_type": "markdown",
   "id": "b0e0f948-1c7e-4629-a915-98e73d639533",
   "metadata": {},
   "source": [
    "Grafici\n",
    "\n",
    "Guardiamo la popolazione per ogni regione tra il 2002 e il 2019"
   ]
  },
  {
   "cell_type": "code",
   "execution_count": 11,
   "id": "c0261df2-ec6c-4d50-a23c-0ffd92007659",
   "metadata": {
    "scrolled": true,
    "tags": []
   },
   "outputs": [
    {
     "data": {
      "text/plain": [
       "array(['Piemonte', \"Valle D'Aosta\", 'Lombardia', 'Trentino', 'Veneto',\n",
       "       'Friuli', 'Liguria', 'Emilia-Romagna', 'Toscana', 'Umbria',\n",
       "       'Marche', 'Lazio', 'Abruzzo', 'Molise', 'Campania', 'Puglia',\n",
       "       'Basilicata', 'Calabria', 'Sicilia', 'Sardegna'], dtype=object)"
      ]
     },
     "execution_count": 11,
     "metadata": {},
     "output_type": "execute_result"
    }
   ],
   "source": [
    "df['Regione'] = df['Regione'].replace('Trentino-Alto Adige/Südtirol','Trentino')\n",
    "df['Regione'] = df['Regione'].replace('Friuli-Venezia Giulia','Friuli')\n",
    "df['Regione'] = df['Regione'].replace(\"Valle D'Aosta/Vallée D'Aoste\",\"Valle D'Aosta\")\n",
    "df['Regione'].unique()"
   ]
  },
  {
   "cell_type": "code",
   "execution_count": 12,
   "id": "18ba5d68-9df8-4ae4-8854-f5e4755f46ff",
   "metadata": {
    "scrolled": true,
    "tags": []
   },
   "outputs": [
    {
     "data": {
      "image/png": "[encoded data removed]",
      "text/plain": [
       "<Figure size 640x480 with 1 Axes>"
      ]
     },
     "metadata": {},
     "output_type": "display_data"
    }
   ],
   "source": [
    "plt.barh(df['Regione'], df['Popolazione'])\n",
    "plt.xlabel('Popolazione')\n",
    "plt.ylabel('Regione')\n",
    "plt.title('Rapporto Popolazione-Regione')\n",
    "plt.legend\n",
    "plt.show()"
   ]
  },
  {
   "cell_type": "markdown",
   "id": "52bf636e-4990-4891-8c92-05aa2cabab63",
   "metadata": {},
   "source": []
  }
 ],
 "metadata": {
  "kernelspec": {
   "display_name": "Python 3 (ipykernel)",
   "language": "python",
   "name": "python3"
  },
  "language_info": {
   "codemirror_mode": {
    "name": "ipython",
    "version": 3
   },
   "file_extension": ".py",
   "mimetype": "text/x-python",
   "name": "python",
   "nbconvert_exporter": "python",
   "pygments_lexer": "ipython3",
   "version": "3.12.0"
  }
 },
 "nbformat": 4,
 "nbformat_minor": 5
}
