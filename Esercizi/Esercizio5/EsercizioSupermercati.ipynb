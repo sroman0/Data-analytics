{
 "cells": [
  {
   "cell_type": "markdown",
   "id": "154c42e0-a69e-4ad0-a128-3e0baeaa78f1",
   "metadata": {},
   "source": [
    "• Determinare le regole forti per il dataset\n",
    "supermarket.csv\n",
    "\n",
    "• Discutere i risultati.\n",
    "\n",
    "• Determinare il lift di ciascuna regola."
   ]
  },
  {
   "cell_type": "code",
   "execution_count": 3,
   "id": "06aa4260-d30b-453a-9b03-bed6237f235a",
   "metadata": {
    "tags": [],
    "ExecuteTime": {
     "end_time": "2024-01-06T10:19:24.722774500Z",
     "start_time": "2024-01-06T10:19:21.917986700Z"
    }
   },
   "outputs": [
    {
     "data": {
      "text/plain": "                               FacilityName         Municipality  LONGITUDE  \\\n0                                    Sobeys       St. Catharines -79.229554   \n1                                   Sobeys               Welland -79.287023   \n2                  Real Canadian Superstore              Grimsby -79.592071   \n3  Outlet Collection at Niagara- Davids Tea  Niagara-on-the-Lake -79.172006   \n4                   No Frills - Supermarket            Fort Erie -78.943567   \n\n    LATITUDE                 Address  GSmartID  \n0  43.187516        400 Scott Street  11502418  \n1  43.004156   609 South Pelham Road  11381353  \n2  43.205250  361 South Service Road  11469036  \n3  43.158877         300 Taylor Road  11504411  \n4  42.907641      1135 Thompson Road  11490330  ",
      "text/html": "<div>\n<style scoped>\n    .dataframe tbody tr th:only-of-type {\n        vertical-align: middle;\n    }\n\n    .dataframe tbody tr th {\n        vertical-align: top;\n    }\n\n    .dataframe thead th {\n        text-align: right;\n    }\n</style>\n<table border=\"1\" class=\"dataframe\">\n  <thead>\n    <tr style=\"text-align: right;\">\n      <th></th>\n      <th>FacilityName</th>\n      <th>Municipality</th>\n      <th>LONGITUDE</th>\n      <th>LATITUDE</th>\n      <th>Address</th>\n      <th>GSmartID</th>\n    </tr>\n  </thead>\n  <tbody>\n    <tr>\n      <th>0</th>\n      <td>Sobeys</td>\n      <td>St. Catharines</td>\n      <td>-79.229554</td>\n      <td>43.187516</td>\n      <td>400 Scott Street</td>\n      <td>11502418</td>\n    </tr>\n    <tr>\n      <th>1</th>\n      <td>Sobeys</td>\n      <td>Welland</td>\n      <td>-79.287023</td>\n      <td>43.004156</td>\n      <td>609 South Pelham Road</td>\n      <td>11381353</td>\n    </tr>\n    <tr>\n      <th>2</th>\n      <td>Real Canadian Superstore</td>\n      <td>Grimsby</td>\n      <td>-79.592071</td>\n      <td>43.205250</td>\n      <td>361 South Service Road</td>\n      <td>11469036</td>\n    </tr>\n    <tr>\n      <th>3</th>\n      <td>Outlet Collection at Niagara- Davids Tea</td>\n      <td>Niagara-on-the-Lake</td>\n      <td>-79.172006</td>\n      <td>43.158877</td>\n      <td>300 Taylor Road</td>\n      <td>11504411</td>\n    </tr>\n    <tr>\n      <th>4</th>\n      <td>No Frills - Supermarket</td>\n      <td>Fort Erie</td>\n      <td>-78.943567</td>\n      <td>42.907641</td>\n      <td>1135 Thompson Road</td>\n      <td>11490330</td>\n    </tr>\n  </tbody>\n</table>\n</div>"
     },
     "execution_count": 3,
     "metadata": {},
     "output_type": "execute_result"
    }
   ],
   "source": [
    "#Esercizio supermercati\n",
    "import pandas as pd\n",
    "import mlxtend\n",
    "from mlxtend.preprocessing import TransactionEncoder\n",
    "from mlxtend.frequent_patterns import apriori, association_rules\n",
    "\n",
    "sm = pd.read_csv('supermarkets.csv')\n",
    "sm.head()"
   ]
  },
  {
   "cell_type": "code",
   "execution_count": 4,
   "id": "4a0ee514-5c81-478f-9cef-7bcddf62a759",
   "metadata": {
    "ExecuteTime": {
     "end_time": "2024-01-06T10:19:36.921117Z",
     "start_time": "2024-01-06T10:19:36.881113700Z"
    }
   },
   "outputs": [
    {
     "name": "stdout",
     "output_type": "stream",
     "text": [
      "Tipi series \n",
      " FacilityName     object\n",
      "Municipality     object\n",
      "LONGITUDE       float64\n",
      "LATITUDE        float64\n",
      "Address          object\n",
      "GSmartID          int64\n",
      "dtype: object\n"
     ]
    }
   ],
   "source": [
    "print('Tipi series \\n',sm.dtypes)"
   ]
  },
  {
   "cell_type": "markdown",
   "id": "976fa131-35c8-4d37-8bd2-4088e3df2c06",
   "metadata": {},
   "source": [
    "Andiamo a calcolare i frequent itemset in cui il supporto minimo è 0.2"
   ]
  },
  {
   "cell_type": "code",
   "execution_count": 5,
   "id": "285e1413-adcb-4322-9d4b-a11a5794f3ae",
   "metadata": {
    "tags": [],
    "ExecuteTime": {
     "end_time": "2024-01-06T10:20:21.629388400Z",
     "start_time": "2024-01-06T10:20:21.581392500Z"
    }
   },
   "outputs": [
    {
     "data": {
      "text/plain": "      support            itemsets  length\n39   0.054545              (t, a)       2\n4    0.054545                 (I)       1\n16   0.054545                 (t)       1\n9    0.054545                 (a)       1\n20   0.054545              (D, I)       2\n..        ...                 ...     ...\n43   0.036364              (t, c)       2\n42   0.036364              (c, l)       2\n41   0.036364              (i, c)       2\n40   0.036364              (y, a)       2\n137  0.036364  (l, i, t, y, c, a)       6\n\n[138 rows x 3 columns]",
      "text/html": "<div>\n<style scoped>\n    .dataframe tbody tr th:only-of-type {\n        vertical-align: middle;\n    }\n\n    .dataframe tbody tr th {\n        vertical-align: top;\n    }\n\n    .dataframe thead th {\n        text-align: right;\n    }\n</style>\n<table border=\"1\" class=\"dataframe\">\n  <thead>\n    <tr style=\"text-align: right;\">\n      <th></th>\n      <th>support</th>\n      <th>itemsets</th>\n      <th>length</th>\n    </tr>\n  </thead>\n  <tbody>\n    <tr>\n      <th>39</th>\n      <td>0.054545</td>\n      <td>(t, a)</td>\n      <td>2</td>\n    </tr>\n    <tr>\n      <th>4</th>\n      <td>0.054545</td>\n      <td>(I)</td>\n      <td>1</td>\n    </tr>\n    <tr>\n      <th>16</th>\n      <td>0.054545</td>\n      <td>(t)</td>\n      <td>1</td>\n    </tr>\n    <tr>\n      <th>9</th>\n      <td>0.054545</td>\n      <td>(a)</td>\n      <td>1</td>\n    </tr>\n    <tr>\n      <th>20</th>\n      <td>0.054545</td>\n      <td>(D, I)</td>\n      <td>2</td>\n    </tr>\n    <tr>\n      <th>...</th>\n      <td>...</td>\n      <td>...</td>\n      <td>...</td>\n    </tr>\n    <tr>\n      <th>43</th>\n      <td>0.036364</td>\n      <td>(t, c)</td>\n      <td>2</td>\n    </tr>\n    <tr>\n      <th>42</th>\n      <td>0.036364</td>\n      <td>(c, l)</td>\n      <td>2</td>\n    </tr>\n    <tr>\n      <th>41</th>\n      <td>0.036364</td>\n      <td>(i, c)</td>\n      <td>2</td>\n    </tr>\n    <tr>\n      <th>40</th>\n      <td>0.036364</td>\n      <td>(y, a)</td>\n      <td>2</td>\n    </tr>\n    <tr>\n      <th>137</th>\n      <td>0.036364</td>\n      <td>(l, i, t, y, c, a)</td>\n      <td>6</td>\n    </tr>\n  </tbody>\n</table>\n<p>138 rows × 3 columns</p>\n</div>"
     },
     "execution_count": 5,
     "metadata": {},
     "output_type": "execute_result"
    }
   ],
   "source": [
    "#Encoder per trasformare il dataset e renderlo leggibile all'algoritmo\n",
    "encoder = TransactionEncoder()\n",
    "encoder_ary = encoder.fit(sm).transform(sm)\n",
    "df = pd.DataFrame(encoder_ary, columns=encoder.columns_)\n",
    "\n",
    "#Genero gli itemset frequenti e li ordino in ordine decrescente\n",
    "frequent_itemset = apriori(df, min_support=0.030, use_colnames=True)\n",
    "frequent_itemset = frequent_itemset.sort_values(by = 'support', ascending = False) \n",
    "frequent_itemset['length'] = frequent_itemset['itemsets'].apply(lambda x:len(x))\n",
    "frequent_itemset"
   ]
  },
  {
   "cell_type": "markdown",
   "id": "7e1f9b09-8f7d-45a1-a79e-f3cc68ef9750",
   "metadata": {},
   "source": [
    "Troviamo le regole forti ( confidenza ) , ordinimamole in ordine decrescente e mostriamone degli esempi "
   ]
  },
  {
   "cell_type": "code",
   "execution_count": 6,
   "id": "c34b2426-1900-4e87-81ae-0b66a89c1fa5",
   "metadata": {
    "ExecuteTime": {
     "end_time": "2024-01-06T10:20:50.907530100Z",
     "start_time": "2024-01-06T10:20:50.859536500Z"
    }
   },
   "outputs": [
    {
     "data": {
      "text/plain": "    antecedents consequents  antecedent support  consequent support   support  \\\n0           (t)         (a)            0.054545            0.054545  0.054545   \n769         (i)   (t, c, y)            0.036364            0.036364  0.036364   \n775         (T)      (U, L)            0.036364            0.036364  0.036364   \n774         (L)      (U, T)            0.036364            0.036364  0.036364   \n773         (U)      (L, T)            0.036364            0.036364  0.036364   \n772      (L, T)         (U)            0.036364            0.036364  0.036364   \n771      (U, T)         (L)            0.036364            0.036364  0.036364   \n770      (U, L)         (T)            0.036364            0.036364  0.036364   \n768         (c)   (t, i, y)            0.036364            0.036364  0.036364   \n777   (i, c, y)         (l)            0.036364            0.036364  0.036364   \n\n     confidence       lift  leverage  conviction  zhangs_metric  \n0           1.0  18.333333  0.051570         inf            1.0  \n769         1.0  27.500000  0.035041         inf            1.0  \n775         1.0  27.500000  0.035041         inf            1.0  \n774         1.0  27.500000  0.035041         inf            1.0  \n773         1.0  27.500000  0.035041         inf            1.0  \n772         1.0  27.500000  0.035041         inf            1.0  \n771         1.0  27.500000  0.035041         inf            1.0  \n770         1.0  27.500000  0.035041         inf            1.0  \n768         1.0  27.500000  0.035041         inf            1.0  \n777         1.0  27.500000  0.035041         inf            1.0  ",
      "text/html": "<div>\n<style scoped>\n    .dataframe tbody tr th:only-of-type {\n        vertical-align: middle;\n    }\n\n    .dataframe tbody tr th {\n        vertical-align: top;\n    }\n\n    .dataframe thead th {\n        text-align: right;\n    }\n</style>\n<table border=\"1\" class=\"dataframe\">\n  <thead>\n    <tr style=\"text-align: right;\">\n      <th></th>\n      <th>antecedents</th>\n      <th>consequents</th>\n      <th>antecedent support</th>\n      <th>consequent support</th>\n      <th>support</th>\n      <th>confidence</th>\n      <th>lift</th>\n      <th>leverage</th>\n      <th>conviction</th>\n      <th>zhangs_metric</th>\n    </tr>\n  </thead>\n  <tbody>\n    <tr>\n      <th>0</th>\n      <td>(t)</td>\n      <td>(a)</td>\n      <td>0.054545</td>\n      <td>0.054545</td>\n      <td>0.054545</td>\n      <td>1.0</td>\n      <td>18.333333</td>\n      <td>0.051570</td>\n      <td>inf</td>\n      <td>1.0</td>\n    </tr>\n    <tr>\n      <th>769</th>\n      <td>(i)</td>\n      <td>(t, c, y)</td>\n      <td>0.036364</td>\n      <td>0.036364</td>\n      <td>0.036364</td>\n      <td>1.0</td>\n      <td>27.500000</td>\n      <td>0.035041</td>\n      <td>inf</td>\n      <td>1.0</td>\n    </tr>\n    <tr>\n      <th>775</th>\n      <td>(T)</td>\n      <td>(U, L)</td>\n      <td>0.036364</td>\n      <td>0.036364</td>\n      <td>0.036364</td>\n      <td>1.0</td>\n      <td>27.500000</td>\n      <td>0.035041</td>\n      <td>inf</td>\n      <td>1.0</td>\n    </tr>\n    <tr>\n      <th>774</th>\n      <td>(L)</td>\n      <td>(U, T)</td>\n      <td>0.036364</td>\n      <td>0.036364</td>\n      <td>0.036364</td>\n      <td>1.0</td>\n      <td>27.500000</td>\n      <td>0.035041</td>\n      <td>inf</td>\n      <td>1.0</td>\n    </tr>\n    <tr>\n      <th>773</th>\n      <td>(U)</td>\n      <td>(L, T)</td>\n      <td>0.036364</td>\n      <td>0.036364</td>\n      <td>0.036364</td>\n      <td>1.0</td>\n      <td>27.500000</td>\n      <td>0.035041</td>\n      <td>inf</td>\n      <td>1.0</td>\n    </tr>\n    <tr>\n      <th>772</th>\n      <td>(L, T)</td>\n      <td>(U)</td>\n      <td>0.036364</td>\n      <td>0.036364</td>\n      <td>0.036364</td>\n      <td>1.0</td>\n      <td>27.500000</td>\n      <td>0.035041</td>\n      <td>inf</td>\n      <td>1.0</td>\n    </tr>\n    <tr>\n      <th>771</th>\n      <td>(U, T)</td>\n      <td>(L)</td>\n      <td>0.036364</td>\n      <td>0.036364</td>\n      <td>0.036364</td>\n      <td>1.0</td>\n      <td>27.500000</td>\n      <td>0.035041</td>\n      <td>inf</td>\n      <td>1.0</td>\n    </tr>\n    <tr>\n      <th>770</th>\n      <td>(U, L)</td>\n      <td>(T)</td>\n      <td>0.036364</td>\n      <td>0.036364</td>\n      <td>0.036364</td>\n      <td>1.0</td>\n      <td>27.500000</td>\n      <td>0.035041</td>\n      <td>inf</td>\n      <td>1.0</td>\n    </tr>\n    <tr>\n      <th>768</th>\n      <td>(c)</td>\n      <td>(t, i, y)</td>\n      <td>0.036364</td>\n      <td>0.036364</td>\n      <td>0.036364</td>\n      <td>1.0</td>\n      <td>27.500000</td>\n      <td>0.035041</td>\n      <td>inf</td>\n      <td>1.0</td>\n    </tr>\n    <tr>\n      <th>777</th>\n      <td>(i, c, y)</td>\n      <td>(l)</td>\n      <td>0.036364</td>\n      <td>0.036364</td>\n      <td>0.036364</td>\n      <td>1.0</td>\n      <td>27.500000</td>\n      <td>0.035041</td>\n      <td>inf</td>\n      <td>1.0</td>\n    </tr>\n  </tbody>\n</table>\n</div>"
     },
     "execution_count": 6,
     "metadata": {},
     "output_type": "execute_result"
    }
   ],
   "source": [
    "rules = association_rules(frequent_itemset, metric='support' , min_threshold=0.02)\n",
    "rules.sort_values(by='confidence' , ascending=False)[0:10]"
   ]
  },
  {
   "cell_type": "markdown",
   "id": "404bbe90-13cf-4c08-8f23-605d75665c69",
   "metadata": {},
   "source": [
    "Ora andiamo a vedere quante regole forti esistono che hanno un valore maggiore di TOT e con supporto minimo di TOT"
   ]
  },
  {
   "cell_type": "code",
   "execution_count": 7,
   "id": "286fe4e5-ecf7-4cd3-af27-19486052aa08",
   "metadata": {
    "tags": [],
    "ExecuteTime": {
     "end_time": "2024-01-06T10:21:21.353909600Z",
     "start_time": "2024-01-06T10:21:21.289820Z"
    }
   },
   "outputs": [
    {
     "data": {
      "text/plain": "     antecedents      consequents  antecedent support  consequent support  \\\n5      (D, U, I)              (T)            0.036364            0.036364   \n6      (D, T, I)              (U)            0.036364            0.036364   \n8         (D, U)           (T, I)            0.036364            0.036364   \n9         (D, T)           (U, I)            0.036364            0.036364   \n12        (U, I)           (D, T)            0.036364            0.036364   \n...          ...              ...                 ...                 ...   \n1217      (a, c)     (i, t, l, y)            0.036364            0.036364   \n1218         (l)  (i, t, y, c, a)            0.036364            0.036364   \n1219         (i)  (l, t, y, c, a)            0.036364            0.036364   \n1221         (y)  (l, i, t, c, a)            0.036364            0.036364   \n1222         (c)  (l, i, t, y, a)            0.036364            0.036364   \n\n       support  confidence  lift  leverage  conviction  zhangs_metric  \n5     0.036364         1.0  27.5  0.035041         inf            1.0  \n6     0.036364         1.0  27.5  0.035041         inf            1.0  \n8     0.036364         1.0  27.5  0.035041         inf            1.0  \n9     0.036364         1.0  27.5  0.035041         inf            1.0  \n12    0.036364         1.0  27.5  0.035041         inf            1.0  \n...        ...         ...   ...       ...         ...            ...  \n1217  0.036364         1.0  27.5  0.035041         inf            1.0  \n1218  0.036364         1.0  27.5  0.035041         inf            1.0  \n1219  0.036364         1.0  27.5  0.035041         inf            1.0  \n1221  0.036364         1.0  27.5  0.035041         inf            1.0  \n1222  0.036364         1.0  27.5  0.035041         inf            1.0  \n\n[900 rows x 10 columns]",
      "text/html": "<div>\n<style scoped>\n    .dataframe tbody tr th:only-of-type {\n        vertical-align: middle;\n    }\n\n    .dataframe tbody tr th {\n        vertical-align: top;\n    }\n\n    .dataframe thead th {\n        text-align: right;\n    }\n</style>\n<table border=\"1\" class=\"dataframe\">\n  <thead>\n    <tr style=\"text-align: right;\">\n      <th></th>\n      <th>antecedents</th>\n      <th>consequents</th>\n      <th>antecedent support</th>\n      <th>consequent support</th>\n      <th>support</th>\n      <th>confidence</th>\n      <th>lift</th>\n      <th>leverage</th>\n      <th>conviction</th>\n      <th>zhangs_metric</th>\n    </tr>\n  </thead>\n  <tbody>\n    <tr>\n      <th>5</th>\n      <td>(D, U, I)</td>\n      <td>(T)</td>\n      <td>0.036364</td>\n      <td>0.036364</td>\n      <td>0.036364</td>\n      <td>1.0</td>\n      <td>27.5</td>\n      <td>0.035041</td>\n      <td>inf</td>\n      <td>1.0</td>\n    </tr>\n    <tr>\n      <th>6</th>\n      <td>(D, T, I)</td>\n      <td>(U)</td>\n      <td>0.036364</td>\n      <td>0.036364</td>\n      <td>0.036364</td>\n      <td>1.0</td>\n      <td>27.5</td>\n      <td>0.035041</td>\n      <td>inf</td>\n      <td>1.0</td>\n    </tr>\n    <tr>\n      <th>8</th>\n      <td>(D, U)</td>\n      <td>(T, I)</td>\n      <td>0.036364</td>\n      <td>0.036364</td>\n      <td>0.036364</td>\n      <td>1.0</td>\n      <td>27.5</td>\n      <td>0.035041</td>\n      <td>inf</td>\n      <td>1.0</td>\n    </tr>\n    <tr>\n      <th>9</th>\n      <td>(D, T)</td>\n      <td>(U, I)</td>\n      <td>0.036364</td>\n      <td>0.036364</td>\n      <td>0.036364</td>\n      <td>1.0</td>\n      <td>27.5</td>\n      <td>0.035041</td>\n      <td>inf</td>\n      <td>1.0</td>\n    </tr>\n    <tr>\n      <th>12</th>\n      <td>(U, I)</td>\n      <td>(D, T)</td>\n      <td>0.036364</td>\n      <td>0.036364</td>\n      <td>0.036364</td>\n      <td>1.0</td>\n      <td>27.5</td>\n      <td>0.035041</td>\n      <td>inf</td>\n      <td>1.0</td>\n    </tr>\n    <tr>\n      <th>...</th>\n      <td>...</td>\n      <td>...</td>\n      <td>...</td>\n      <td>...</td>\n      <td>...</td>\n      <td>...</td>\n      <td>...</td>\n      <td>...</td>\n      <td>...</td>\n      <td>...</td>\n    </tr>\n    <tr>\n      <th>1217</th>\n      <td>(a, c)</td>\n      <td>(i, t, l, y)</td>\n      <td>0.036364</td>\n      <td>0.036364</td>\n      <td>0.036364</td>\n      <td>1.0</td>\n      <td>27.5</td>\n      <td>0.035041</td>\n      <td>inf</td>\n      <td>1.0</td>\n    </tr>\n    <tr>\n      <th>1218</th>\n      <td>(l)</td>\n      <td>(i, t, y, c, a)</td>\n      <td>0.036364</td>\n      <td>0.036364</td>\n      <td>0.036364</td>\n      <td>1.0</td>\n      <td>27.5</td>\n      <td>0.035041</td>\n      <td>inf</td>\n      <td>1.0</td>\n    </tr>\n    <tr>\n      <th>1219</th>\n      <td>(i)</td>\n      <td>(l, t, y, c, a)</td>\n      <td>0.036364</td>\n      <td>0.036364</td>\n      <td>0.036364</td>\n      <td>1.0</td>\n      <td>27.5</td>\n      <td>0.035041</td>\n      <td>inf</td>\n      <td>1.0</td>\n    </tr>\n    <tr>\n      <th>1221</th>\n      <td>(y)</td>\n      <td>(l, i, t, c, a)</td>\n      <td>0.036364</td>\n      <td>0.036364</td>\n      <td>0.036364</td>\n      <td>1.0</td>\n      <td>27.5</td>\n      <td>0.035041</td>\n      <td>inf</td>\n      <td>1.0</td>\n    </tr>\n    <tr>\n      <th>1222</th>\n      <td>(c)</td>\n      <td>(l, i, t, y, a)</td>\n      <td>0.036364</td>\n      <td>0.036364</td>\n      <td>0.036364</td>\n      <td>1.0</td>\n      <td>27.5</td>\n      <td>0.035041</td>\n      <td>inf</td>\n      <td>1.0</td>\n    </tr>\n  </tbody>\n</table>\n<p>900 rows × 10 columns</p>\n</div>"
     },
     "execution_count": 7,
     "metadata": {},
     "output_type": "execute_result"
    }
   ],
   "source": [
    "rules[(rules['support']>=0.02)&(rules['lift']>20.0)]"
   ]
  },
  {
   "cell_type": "markdown",
   "id": "8e4eefd6-6551-44a2-8ca1-51be59deb94a",
   "metadata": {},
   "source": [
    "Così da qui possiamo notare che abbiamo ottenuto 900 regole forti in cui il lift è maggiore di 20. \n"
   ]
  },
  {
   "cell_type": "code",
   "execution_count": null,
   "outputs": [],
   "source": [],
   "metadata": {
    "collapsed": false
   },
   "id": "86984422c9357e8c"
  }
 ],
 "metadata": {
  "kernelspec": {
   "display_name": "Python 3 (ipykernel)",
   "language": "python",
   "name": "python3"
  },
  "language_info": {
   "codemirror_mode": {
    "name": "ipython",
    "version": 3
   },
   "file_extension": ".py",
   "mimetype": "text/x-python",
   "name": "python",
   "nbconvert_exporter": "python",
   "pygments_lexer": "ipython3",
   "version": "3.10.10"
  }
 },
 "nbformat": 4,
 "nbformat_minor": 5
}
