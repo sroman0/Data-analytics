{
 "cells": [
  {
   "cell_type": "markdown",
   "id": "977fde29f54cca2d",
   "metadata": {
    "collapsed": false
   },
   "source": [
    "Andiamo a fare data cleaning sul seguente dataset"
   ]
  },
  {
   "cell_type": "code",
   "execution_count": 2,
   "id": "ae909110133abd78",
   "metadata": {
    "collapsed": false,
    "ExecuteTime": {
     "end_time": "2024-01-05T19:13:47.684285700Z",
     "start_time": "2024-01-05T19:13:41.302977100Z"
    }
   },
   "outputs": [
    {
     "name": "stdout",
     "output_type": "stream",
     "text": [
      "Package                   Version\n",
      "------------------------- ----------\n",
      "anyio                     4.2.0\n",
      "argon2-cffi               23.1.0\n",
      "argon2-cffi-bindings      21.2.0\n",
      "arrow                     1.3.0\n",
      "asttokens                 2.4.1\n",
      "async-lru                 2.0.4\n",
      "attrs                     23.2.0\n",
      "Babel                     2.14.0\n",
      "beautifulsoup4            4.12.2\n",
      "bleach                    6.1.0\n",
      "certifi                   2023.11.17\n",
      "cffi                      1.16.0\n",
      "charset-normalizer        3.3.2\n",
      "colorama                  0.4.6\n",
      "comm                      0.2.1\n",
      "debugpy                   1.8.0\n",
      "decorator                 5.1.1\n",
      "defusedxml                0.7.1\n",
      "exceptiongroup            1.2.0\n",
      "executing                 2.0.1\n",
      "fastjsonschema            2.19.1\n",
      "fqdn                      1.5.1\n",
      "idna                      3.6\n",
      "importlib-metadata        7.0.1\n",
      "ipykernel                 6.28.0\n",
      "ipython                   8.18.1\n",
      "ipywidgets                8.1.1\n",
      "isoduration               20.11.0\n",
      "jedi                      0.19.1\n",
      "Jinja2                    3.1.2\n",
      "json5                     0.9.14\n",
      "jsonpointer               2.4\n",
      "jsonschema                4.20.0\n",
      "jsonschema-specifications 2023.12.1\n",
      "jupyter                   1.0.0\n",
      "jupyter_client            8.6.0\n",
      "jupyter-console           6.6.3\n",
      "jupyter_core              5.7.0\n",
      "jupyter-events            0.9.0\n",
      "jupyter-lsp               2.2.1\n",
      "jupyter_server            2.12.2\n",
      "jupyter_server_terminals  0.5.1\n",
      "jupyterlab                4.0.10\n",
      "jupyterlab_pygments       0.3.0\n",
      "jupyterlab_server         2.25.2\n",
      "jupyterlab-widgets        3.0.9\n",
      "MarkupSafe                2.1.3\n",
      "matplotlib-inline         0.1.6\n",
      "mistune                   3.0.2\n",
      "nbclient                  0.9.0\n",
      "nbconvert                 7.14.0\n",
      "nbformat                  5.9.2\n",
      "nest-asyncio              1.5.8\n",
      "notebook                  7.0.6\n",
      "notebook_shim             0.2.3\n",
      "overrides                 7.4.0\n",
      "packaging                 23.2\n",
      "pandocfilters             1.5.0\n",
      "parso                     0.8.3\n",
      "pip                       22.0.4\n",
      "platformdirs              4.1.0\n",
      "prometheus-client         0.19.0\n",
      "prompt-toolkit            3.0.43\n",
      "psutil                    5.9.7\n",
      "pure-eval                 0.2.2\n",
      "pycparser                 2.21\n",
      "Pygments                  2.17.2\n",
      "python-dateutil           2.8.2\n",
      "python-json-logger        2.0.7\n",
      "pywin32                   306\n",
      "pywinpty                  2.0.12\n",
      "PyYAML                    6.0.1\n",
      "pyzmq                     25.1.2\n",
      "qtconsole                 5.5.1\n",
      "QtPy                      2.4.1\n",
      "referencing               0.32.1\n",
      "requests                  2.31.0\n",
      "rfc3339-validator         0.1.4\n",
      "rfc3986-validator         0.1.1\n",
      "rpds-py                   0.16.2\n",
      "Send2Trash                1.8.2\n",
      "setuptools                58.1.0\n",
      "six                       1.16.0\n",
      "sniffio                   1.3.0\n",
      "soupsieve                 2.5\n",
      "stack-data                0.6.3\n",
      "terminado                 0.18.0\n",
      "tinycss2                  1.2.1\n",
      "tomli                     2.0.1\n",
      "tornado                   6.4\n",
      "traitlets                 5.14.1\n",
      "types-python-dateutil     2.8.19.14\n",
      "typing_extensions         4.9.0\n",
      "uri-template              1.3.0\n",
      "urllib3                   2.1.0\n",
      "wcwidth                   0.2.12\n",
      "webcolors                 1.13\n",
      "webencodings              0.5.1\n",
      "websocket-client          1.7.0\n",
      "widgetsnbextension        4.0.9\n",
      "zipp                      3.17.0\n",
      "Note: you may need to restart the kernel to use updated packages.\n"
     ]
    },
    {
     "name": "stderr",
     "output_type": "stream",
     "text": [
      "WARNING: You are using pip version 22.0.4; however, version 23.3.2 is available.\n",
      "You should consider upgrading via the 'C:\\Users\\simon\\AppData\\Local\\Programs\\Python\\Python39\\python.exe -m pip install --upgrade pip' command.\n"
     ]
    }
   ],
   "source": [
    "pip list"
   ]
  },
  {
   "cell_type": "code",
   "execution_count": 12,
   "outputs": [
    {
     "name": "stdout",
     "output_type": "stream",
     "text": [
      "Collecting seaborn\n",
      "  Downloading seaborn-0.13.1-py3-none-any.whl (294 kB)\n",
      "     -------------------------------------- 294.8/294.8 KB 1.0 MB/s eta 0:00:00\n",
      "Requirement already satisfied: numpy!=1.24.0,>=1.20 in c:\\users\\simon\\appdata\\local\\programs\\python\\python39\\lib\\site-packages (from seaborn) (1.26.3)\n",
      "Requirement already satisfied: matplotlib!=3.6.1,>=3.4 in c:\\users\\simon\\appdata\\local\\programs\\python\\python39\\lib\\site-packages (from seaborn) (3.8.2)\n",
      "Requirement already satisfied: pandas>=1.2 in c:\\users\\simon\\appdata\\local\\programs\\python\\python39\\lib\\site-packages (from seaborn) (2.1.4)\n",
      "Requirement already satisfied: importlib-resources>=3.2.0 in c:\\users\\simon\\appdata\\local\\programs\\python\\python39\\lib\\site-packages (from matplotlib!=3.6.1,>=3.4->seaborn) (6.1.1)\n",
      "Requirement already satisfied: fonttools>=4.22.0 in c:\\users\\simon\\appdata\\local\\programs\\python\\python39\\lib\\site-packages (from matplotlib!=3.6.1,>=3.4->seaborn) (4.47.0)\n",
      "Requirement already satisfied: cycler>=0.10 in c:\\users\\simon\\appdata\\local\\programs\\python\\python39\\lib\\site-packages (from matplotlib!=3.6.1,>=3.4->seaborn) (0.12.1)\n",
      "Requirement already satisfied: kiwisolver>=1.3.1 in c:\\users\\simon\\appdata\\local\\programs\\python\\python39\\lib\\site-packages (from matplotlib!=3.6.1,>=3.4->seaborn) (1.4.5)\n",
      "Requirement already satisfied: pillow>=8 in c:\\users\\simon\\appdata\\local\\programs\\python\\python39\\lib\\site-packages (from matplotlib!=3.6.1,>=3.4->seaborn) (10.2.0)\n",
      "Requirement already satisfied: pyparsing>=2.3.1 in c:\\users\\simon\\appdata\\local\\programs\\python\\python39\\lib\\site-packages (from matplotlib!=3.6.1,>=3.4->seaborn) (3.1.1)\n",
      "Requirement already satisfied: packaging>=20.0 in c:\\users\\simon\\appdata\\local\\programs\\python\\python39\\lib\\site-packages (from matplotlib!=3.6.1,>=3.4->seaborn) (23.2)\n",
      "Requirement already satisfied: contourpy>=1.0.1 in c:\\users\\simon\\appdata\\local\\programs\\python\\python39\\lib\\site-packages (from matplotlib!=3.6.1,>=3.4->seaborn) (1.2.0)\n",
      "Requirement already satisfied: python-dateutil>=2.7 in c:\\users\\simon\\appdata\\local\\programs\\python\\python39\\lib\\site-packages (from matplotlib!=3.6.1,>=3.4->seaborn) (2.8.2)\n",
      "Requirement already satisfied: pytz>=2020.1 in c:\\users\\simon\\appdata\\local\\programs\\python\\python39\\lib\\site-packages (from pandas>=1.2->seaborn) (2023.3.post1)\n",
      "Requirement already satisfied: tzdata>=2022.1 in c:\\users\\simon\\appdata\\local\\programs\\python\\python39\\lib\\site-packages (from pandas>=1.2->seaborn) (2023.4)\n",
      "Requirement already satisfied: zipp>=3.1.0 in c:\\users\\simon\\appdata\\local\\programs\\python\\python39\\lib\\site-packages (from importlib-resources>=3.2.0->matplotlib!=3.6.1,>=3.4->seaborn) (3.17.0)\n",
      "Requirement already satisfied: six>=1.5 in c:\\users\\simon\\appdata\\local\\programs\\python\\python39\\lib\\site-packages (from python-dateutil>=2.7->matplotlib!=3.6.1,>=3.4->seaborn) (1.16.0)\n",
      "Installing collected packages: seaborn\n",
      "Successfully installed seaborn-0.13.1\n",
      "Note: you may need to restart the kernel to use updated packages.\n"
     ]
    },
    {
     "name": "stderr",
     "output_type": "stream",
     "text": [
      "WARNING: You are using pip version 22.0.4; however, version 23.3.2 is available.\n",
      "You should consider upgrading via the 'C:\\Users\\simon\\AppData\\Local\\Programs\\Python\\Python39\\python.exe -m pip install --upgrade pip' command.\n"
     ]
    }
   ],
   "source": [
    "pip install seaborn"
   ],
   "metadata": {
    "collapsed": false,
    "ExecuteTime": {
     "end_time": "2024-01-05T19:19:14.556438Z",
     "start_time": "2024-01-05T19:19:11.835182900Z"
    }
   },
   "id": "ff7135db-cb55-4fe6-ae1f-9113a92472c1"
  },
  {
   "cell_type": "code",
   "execution_count": 13,
   "outputs": [
    {
     "data": {
      "text/plain": "   Customer          SSN  Birthdate  Age Region  CredCardUser  Income  \\\n0         1  539-84-9599 1944-10-26   78   East             0   62900   \n1         2  444-05-4079 1932-01-01   67   West             1   23300   \n2         3  418-18-5649 1973-08-17   25   East             1   48700   \n3         4  065-63-3311 1947-08-02   51   West             1  137600   \n4         5  059-58-9566 1948-10-03   50   East             0  101400   \n\n   Purchases  AmtSpent  \n0          4      2080  \n1          0         0  \n2          8      3990  \n3          2       920  \n4          2      1000  ",
      "text/html": "<div>\n<style scoped>\n    .dataframe tbody tr th:only-of-type {\n        vertical-align: middle;\n    }\n\n    .dataframe tbody tr th {\n        vertical-align: top;\n    }\n\n    .dataframe thead th {\n        text-align: right;\n    }\n</style>\n<table border=\"1\" class=\"dataframe\">\n  <thead>\n    <tr style=\"text-align: right;\">\n      <th></th>\n      <th>Customer</th>\n      <th>SSN</th>\n      <th>Birthdate</th>\n      <th>Age</th>\n      <th>Region</th>\n      <th>CredCardUser</th>\n      <th>Income</th>\n      <th>Purchases</th>\n      <th>AmtSpent</th>\n    </tr>\n  </thead>\n  <tbody>\n    <tr>\n      <th>0</th>\n      <td>1</td>\n      <td>539-84-9599</td>\n      <td>1944-10-26</td>\n      <td>78</td>\n      <td>East</td>\n      <td>0</td>\n      <td>62900</td>\n      <td>4</td>\n      <td>2080</td>\n    </tr>\n    <tr>\n      <th>1</th>\n      <td>2</td>\n      <td>444-05-4079</td>\n      <td>1932-01-01</td>\n      <td>67</td>\n      <td>West</td>\n      <td>1</td>\n      <td>23300</td>\n      <td>0</td>\n      <td>0</td>\n    </tr>\n    <tr>\n      <th>2</th>\n      <td>3</td>\n      <td>418-18-5649</td>\n      <td>1973-08-17</td>\n      <td>25</td>\n      <td>East</td>\n      <td>1</td>\n      <td>48700</td>\n      <td>8</td>\n      <td>3990</td>\n    </tr>\n    <tr>\n      <th>3</th>\n      <td>4</td>\n      <td>065-63-3311</td>\n      <td>1947-08-02</td>\n      <td>51</td>\n      <td>West</td>\n      <td>1</td>\n      <td>137600</td>\n      <td>2</td>\n      <td>920</td>\n    </tr>\n    <tr>\n      <th>4</th>\n      <td>5</td>\n      <td>059-58-9566</td>\n      <td>1948-10-03</td>\n      <td>50</td>\n      <td>East</td>\n      <td>0</td>\n      <td>101400</td>\n      <td>2</td>\n      <td>1000</td>\n    </tr>\n  </tbody>\n</table>\n</div>"
     },
     "execution_count": 13,
     "metadata": {},
     "output_type": "execute_result"
    }
   ],
   "source": [
    "import pandas as pd\n",
    "import numpy as np\n",
    "import matplotlib.pyplot as plt\n",
    "import seaborn as sns\n",
    "\n",
    "df = pd.read_excel('DM.xls')\n",
    "df.head()"
   ],
   "metadata": {
    "collapsed": false,
    "ExecuteTime": {
     "end_time": "2024-01-05T19:19:21.703229600Z",
     "start_time": "2024-01-05T19:19:21.485483100Z"
    }
   },
   "id": "92d54a34-a161-4e81-b380-7c2c44ae05f6"
  },
  {
   "cell_type": "code",
   "execution_count": 14,
   "id": "54cf17fa-c083-4231-abcd-1534f7956ad0",
   "metadata": {
    "tags": [],
    "ExecuteTime": {
     "end_time": "2024-01-05T19:19:24.401288500Z",
     "start_time": "2024-01-05T19:19:24.377728900Z"
    }
   },
   "outputs": [
    {
     "name": "stdout",
     "output_type": "stream",
     "text": [
      "<class 'pandas.core.frame.DataFrame'>\n",
      "RangeIndex: 1500 entries, 0 to 1499\n",
      "Data columns (total 9 columns):\n",
      " #   Column        Non-Null Count  Dtype         \n",
      "---  ------        --------------  -----         \n",
      " 0   Customer      1500 non-null   int64         \n",
      " 1   SSN           1500 non-null   object        \n",
      " 2   Birthdate     1500 non-null   datetime64[ns]\n",
      " 3   Age           1500 non-null   int64         \n",
      " 4   Region        1500 non-null   object        \n",
      " 5   CredCardUser  1500 non-null   int64         \n",
      " 6   Income        1500 non-null   int64         \n",
      " 7   Purchases     1500 non-null   int64         \n",
      " 8   AmtSpent      1500 non-null   int64         \n",
      "dtypes: datetime64[ns](1), int64(6), object(2)\n",
      "memory usage: 105.6+ KB\n"
     ]
    }
   ],
   "source": [
    "df.info()"
   ]
  },
  {
   "cell_type": "code",
   "execution_count": 15,
   "id": "a63bb603-4fa4-48d1-b58f-ec03d50782ec",
   "metadata": {
    "tags": [],
    "ExecuteTime": {
     "end_time": "2024-01-05T19:19:27.351945800Z",
     "start_time": "2024-01-05T19:19:27.340732800Z"
    }
   },
   "outputs": [
    {
     "name": "stdout",
     "output_type": "stream",
     "text": [
      "\n",
      "Gestione valori duplicati\n",
      "\n",
      "Nuovo dataset con righe pari a:  1498\n"
     ]
    }
   ],
   "source": [
    "print('\\nGestione valori duplicati')\n",
    "if len(df['SSN'].unique()) < len(df.index):\n",
    "    df = df.drop_duplicates('SSN', keep='first')\n",
    "    print('\\nNuovo dataset con righe pari a: ', len(df))\n",
    "else:\n",
    "    print('\\nNon sono presenti duplicati. ')"
   ]
  },
  {
   "cell_type": "markdown",
   "id": "6b317f44-7a96-43e5-b6d7-3e50d30c043c",
   "metadata": {},
   "source": [
    "Quindi possiamo notare che avevamo 2 doppi di SSN"
   ]
  },
  {
   "cell_type": "markdown",
   "id": "57b23c0b-4622-4ca8-9693-73ee77fb278b",
   "metadata": {},
   "source": [
    "Conto i valori NaN nelle colonne Income e Purchases"
   ]
  },
  {
   "cell_type": "code",
   "execution_count": 16,
   "id": "b3416532-d0d7-44c9-a917-51aa73f45911",
   "metadata": {
    "tags": [],
    "ExecuteTime": {
     "end_time": "2024-01-05T19:19:32.311137800Z",
     "start_time": "2024-01-05T19:19:32.294580300Z"
    }
   },
   "outputs": [
    {
     "name": "stdout",
     "output_type": "stream",
     "text": [
      "Conteggio valori NaN :\n",
      "Customer        0\n",
      "SSN             0\n",
      "Birthdate       0\n",
      "Age             0\n",
      "Region          0\n",
      "CredCardUser    0\n",
      "Income          0\n",
      "Purchases       0\n",
      "AmtSpent        0\n",
      "dtype: int64\n"
     ]
    }
   ],
   "source": [
    "print('Conteggio valori NaN :')\n",
    "print(df.isna().sum())"
   ]
  },
  {
   "cell_type": "markdown",
   "id": "d6fad3e9-bc6d-4df8-b3e3-fffc3f1a964d",
   "metadata": {},
   "source": [
    "Quindi non abbiamo nessun valore nullo all'interno delle serie"
   ]
  },
  {
   "cell_type": "code",
   "execution_count": 17,
   "id": "0673a76c-5bda-4dbc-a8fc-61cf7c17ea5d",
   "metadata": {
    "tags": [],
    "ExecuteTime": {
     "end_time": "2024-01-05T19:19:35.100911Z",
     "start_time": "2024-01-05T19:19:34.940010100Z"
    }
   },
   "outputs": [
    {
     "name": "stdout",
     "output_type": "stream",
     "text": [
      "Identificazione outliers di Income\n"
     ]
    },
    {
     "data": {
      "text/plain": "<Figure size 640x480 with 1 Axes>",
      "image/png": "[encoded data removed]"
     },
     "metadata": {},
     "output_type": "display_data"
    }
   ],
   "source": [
    "print('Identificazione outliers di Income')\n",
    "boxplot = sns.boxplot(df['Income'])"
   ]
  },
  {
   "cell_type": "code",
   "execution_count": 18,
   "id": "1f2dbc22-d9eb-47f4-a0bc-2e1c8508377e",
   "metadata": {
    "tags": [],
    "ExecuteTime": {
     "end_time": "2024-01-05T19:19:37.794607700Z",
     "start_time": "2024-01-05T19:19:37.769330Z"
    }
   },
   "outputs": [
    {
     "data": {
      "text/plain": "Empty DataFrame\nColumns: [Customer, SSN, Birthdate, Age, Region, CredCardUser, Income, Purchases, AmtSpent]\nIndex: []",
      "text/html": "<div>\n<style scoped>\n    .dataframe tbody tr th:only-of-type {\n        vertical-align: middle;\n    }\n\n    .dataframe tbody tr th {\n        vertical-align: top;\n    }\n\n    .dataframe thead th {\n        text-align: right;\n    }\n</style>\n<table border=\"1\" class=\"dataframe\">\n  <thead>\n    <tr style=\"text-align: right;\">\n      <th></th>\n      <th>Customer</th>\n      <th>SSN</th>\n      <th>Birthdate</th>\n      <th>Age</th>\n      <th>Region</th>\n      <th>CredCardUser</th>\n      <th>Income</th>\n      <th>Purchases</th>\n      <th>AmtSpent</th>\n    </tr>\n  </thead>\n  <tbody>\n  </tbody>\n</table>\n</div>"
     },
     "execution_count": 18,
     "metadata": {},
     "output_type": "execute_result"
    }
   ],
   "source": [
    "out2 = df[df['Income']==0]\n",
    "out1 = df[df['Income']==160000]\n",
    "out2"
   ]
  },
  {
   "cell_type": "code",
   "execution_count": 19,
   "id": "f86b2512-3558-4983-b347-aa6ddb463f03",
   "metadata": {
    "ExecuteTime": {
     "end_time": "2024-01-05T19:19:39.861042400Z",
     "start_time": "2024-01-05T19:19:39.839459100Z"
    }
   },
   "outputs": [
    {
     "data": {
      "text/plain": "     Customer          SSN  Birthdate  Age Region  CredCardUser  Income  \\\n454       455  308-15-1508 1975-06-14   23  North             1  160000   \n538       539  445-94-4117 1958-02-11   41   East             0  160000   \n\n     Purchases  AmtSpent  \n454          2      1050  \n538          3      1550  ",
      "text/html": "<div>\n<style scoped>\n    .dataframe tbody tr th:only-of-type {\n        vertical-align: middle;\n    }\n\n    .dataframe tbody tr th {\n        vertical-align: top;\n    }\n\n    .dataframe thead th {\n        text-align: right;\n    }\n</style>\n<table border=\"1\" class=\"dataframe\">\n  <thead>\n    <tr style=\"text-align: right;\">\n      <th></th>\n      <th>Customer</th>\n      <th>SSN</th>\n      <th>Birthdate</th>\n      <th>Age</th>\n      <th>Region</th>\n      <th>CredCardUser</th>\n      <th>Income</th>\n      <th>Purchases</th>\n      <th>AmtSpent</th>\n    </tr>\n  </thead>\n  <tbody>\n    <tr>\n      <th>454</th>\n      <td>455</td>\n      <td>308-15-1508</td>\n      <td>1975-06-14</td>\n      <td>23</td>\n      <td>North</td>\n      <td>1</td>\n      <td>160000</td>\n      <td>2</td>\n      <td>1050</td>\n    </tr>\n    <tr>\n      <th>538</th>\n      <td>539</td>\n      <td>445-94-4117</td>\n      <td>1958-02-11</td>\n      <td>41</td>\n      <td>East</td>\n      <td>0</td>\n      <td>160000</td>\n      <td>3</td>\n      <td>1550</td>\n    </tr>\n  </tbody>\n</table>\n</div>"
     },
     "execution_count": 19,
     "metadata": {},
     "output_type": "execute_result"
    }
   ],
   "source": [
    "out1"
   ]
  },
  {
   "cell_type": "code",
   "execution_count": 20,
   "id": "2073b300-35c0-4a45-a7f1-7ce4dbda3bec",
   "metadata": {
    "tags": [],
    "ExecuteTime": {
     "end_time": "2024-01-05T19:19:42.352121100Z",
     "start_time": "2024-01-05T19:19:42.191614100Z"
    }
   },
   "outputs": [
    {
     "name": "stdout",
     "output_type": "stream",
     "text": [
      "Identificazione outliers di Purchases\n"
     ]
    },
    {
     "data": {
      "text/plain": "(array([1480.,    0.,    0.,    0.,    0.,    0.,    0.,    0.,    0.,\n          18.]),\n array([   0. ,  999.9, 1999.8, 2999.7, 3999.6, 4999.5, 5999.4, 6999.3,\n        7999.2, 8999.1, 9999. ]),\n <BarContainer object of 10 artists>)"
     },
     "execution_count": 20,
     "metadata": {},
     "output_type": "execute_result"
    },
    {
     "data": {
      "text/plain": "<Figure size 640x480 with 1 Axes>",
      "image/png": "[encoded data removed]"
     },
     "metadata": {},
     "output_type": "display_data"
    }
   ],
   "source": [
    "print('Identificazione outliers di Purchases')\n",
    "plt.hist(df['Purchases'])"
   ]
  },
  {
   "cell_type": "code",
   "execution_count": 21,
   "id": "14bd28e8-44e3-4229-b847-713143740439",
   "metadata": {
    "tags": [],
    "ExecuteTime": {
     "end_time": "2024-01-05T19:19:44.441915Z",
     "start_time": "2024-01-05T19:19:44.400911400Z"
    }
   },
   "outputs": [
    {
     "data": {
      "text/plain": "      Customer          SSN  Birthdate  Age  Region  CredCardUser  Income  \\\n13          14  614-59-6703 1972-08-01   26   South             1   54400   \n152        153  048-55-8930 1934-09-05   64    West             1   64400   \n249        250  586-87-0627 1952-06-24   46    East             1   53300   \n286        287  133-53-5943 1935-09-22   63   North             1   20000   \n316        317  865-85-3875 1931-12-19   67   South             0  149900   \n374        375  867-63-6238 1971-09-17   27    West             0   29900   \n431        432  572-79-9529 1967-01-21   32    West             1  104500   \n442        443  087-21-2053 1952-07-02   46    West             0  141200   \n468        469  797-55-3419 1961-09-16   37   North             1  132800   \n857        858  819-34-4450 1959-05-26   39   South             1  101300   \n979        980  967-97-4228 1963-07-04   35   South             1   76800   \n1060      1061  377-29-0406 1951-10-08   47    West             1   93000   \n1105      1106  102-74-2447 1930-03-14   69    West             0   59300   \n1120      1121  637-23-3846 1954-06-14   44   South             0   64000   \n1124      1125  394-20-9464 1975-10-20   23   North             1  129400   \n1143      1144  211-02-9333 1934-08-13   64   North             0      71   \n1297      1298  552-06-0509 1937-10-12   61   North             0   23700   \n1437      1438  452-69-6883 1974-01-16   25   South             0  116400   \n\n      Purchases  AmtSpent  \n13         9999      9999  \n152        9999      9999  \n249        9999      9999  \n286        9999      9999  \n316        9999      9999  \n374        9999      9999  \n431        9999      9999  \n442        9999      9999  \n468        9999      9999  \n857        9999      9999  \n979        9999      9999  \n1060       9999      9999  \n1105       9999      9999  \n1120       9999      9999  \n1124       9999      9999  \n1143       9999      9999  \n1297       9999      9999  \n1437       9999      9999  ",
      "text/html": "<div>\n<style scoped>\n    .dataframe tbody tr th:only-of-type {\n        vertical-align: middle;\n    }\n\n    .dataframe tbody tr th {\n        vertical-align: top;\n    }\n\n    .dataframe thead th {\n        text-align: right;\n    }\n</style>\n<table border=\"1\" class=\"dataframe\">\n  <thead>\n    <tr style=\"text-align: right;\">\n      <th></th>\n      <th>Customer</th>\n      <th>SSN</th>\n      <th>Birthdate</th>\n      <th>Age</th>\n      <th>Region</th>\n      <th>CredCardUser</th>\n      <th>Income</th>\n      <th>Purchases</th>\n      <th>AmtSpent</th>\n    </tr>\n  </thead>\n  <tbody>\n    <tr>\n      <th>13</th>\n      <td>14</td>\n      <td>614-59-6703</td>\n      <td>1972-08-01</td>\n      <td>26</td>\n      <td>South</td>\n      <td>1</td>\n      <td>54400</td>\n      <td>9999</td>\n      <td>9999</td>\n    </tr>\n    <tr>\n      <th>152</th>\n      <td>153</td>\n      <td>048-55-8930</td>\n      <td>1934-09-05</td>\n      <td>64</td>\n      <td>West</td>\n      <td>1</td>\n      <td>64400</td>\n      <td>9999</td>\n      <td>9999</td>\n    </tr>\n    <tr>\n      <th>249</th>\n      <td>250</td>\n      <td>586-87-0627</td>\n      <td>1952-06-24</td>\n      <td>46</td>\n      <td>East</td>\n      <td>1</td>\n      <td>53300</td>\n      <td>9999</td>\n      <td>9999</td>\n    </tr>\n    <tr>\n      <th>286</th>\n      <td>287</td>\n      <td>133-53-5943</td>\n      <td>1935-09-22</td>\n      <td>63</td>\n      <td>North</td>\n      <td>1</td>\n      <td>20000</td>\n      <td>9999</td>\n      <td>9999</td>\n    </tr>\n    <tr>\n      <th>316</th>\n      <td>317</td>\n      <td>865-85-3875</td>\n      <td>1931-12-19</td>\n      <td>67</td>\n      <td>South</td>\n      <td>0</td>\n      <td>149900</td>\n      <td>9999</td>\n      <td>9999</td>\n    </tr>\n    <tr>\n      <th>374</th>\n      <td>375</td>\n      <td>867-63-6238</td>\n      <td>1971-09-17</td>\n      <td>27</td>\n      <td>West</td>\n      <td>0</td>\n      <td>29900</td>\n      <td>9999</td>\n      <td>9999</td>\n    </tr>\n    <tr>\n      <th>431</th>\n      <td>432</td>\n      <td>572-79-9529</td>\n      <td>1967-01-21</td>\n      <td>32</td>\n      <td>West</td>\n      <td>1</td>\n      <td>104500</td>\n      <td>9999</td>\n      <td>9999</td>\n    </tr>\n    <tr>\n      <th>442</th>\n      <td>443</td>\n      <td>087-21-2053</td>\n      <td>1952-07-02</td>\n      <td>46</td>\n      <td>West</td>\n      <td>0</td>\n      <td>141200</td>\n      <td>9999</td>\n      <td>9999</td>\n    </tr>\n    <tr>\n      <th>468</th>\n      <td>469</td>\n      <td>797-55-3419</td>\n      <td>1961-09-16</td>\n      <td>37</td>\n      <td>North</td>\n      <td>1</td>\n      <td>132800</td>\n      <td>9999</td>\n      <td>9999</td>\n    </tr>\n    <tr>\n      <th>857</th>\n      <td>858</td>\n      <td>819-34-4450</td>\n      <td>1959-05-26</td>\n      <td>39</td>\n      <td>South</td>\n      <td>1</td>\n      <td>101300</td>\n      <td>9999</td>\n      <td>9999</td>\n    </tr>\n    <tr>\n      <th>979</th>\n      <td>980</td>\n      <td>967-97-4228</td>\n      <td>1963-07-04</td>\n      <td>35</td>\n      <td>South</td>\n      <td>1</td>\n      <td>76800</td>\n      <td>9999</td>\n      <td>9999</td>\n    </tr>\n    <tr>\n      <th>1060</th>\n      <td>1061</td>\n      <td>377-29-0406</td>\n      <td>1951-10-08</td>\n      <td>47</td>\n      <td>West</td>\n      <td>1</td>\n      <td>93000</td>\n      <td>9999</td>\n      <td>9999</td>\n    </tr>\n    <tr>\n      <th>1105</th>\n      <td>1106</td>\n      <td>102-74-2447</td>\n      <td>1930-03-14</td>\n      <td>69</td>\n      <td>West</td>\n      <td>0</td>\n      <td>59300</td>\n      <td>9999</td>\n      <td>9999</td>\n    </tr>\n    <tr>\n      <th>1120</th>\n      <td>1121</td>\n      <td>637-23-3846</td>\n      <td>1954-06-14</td>\n      <td>44</td>\n      <td>South</td>\n      <td>0</td>\n      <td>64000</td>\n      <td>9999</td>\n      <td>9999</td>\n    </tr>\n    <tr>\n      <th>1124</th>\n      <td>1125</td>\n      <td>394-20-9464</td>\n      <td>1975-10-20</td>\n      <td>23</td>\n      <td>North</td>\n      <td>1</td>\n      <td>129400</td>\n      <td>9999</td>\n      <td>9999</td>\n    </tr>\n    <tr>\n      <th>1143</th>\n      <td>1144</td>\n      <td>211-02-9333</td>\n      <td>1934-08-13</td>\n      <td>64</td>\n      <td>North</td>\n      <td>0</td>\n      <td>71</td>\n      <td>9999</td>\n      <td>9999</td>\n    </tr>\n    <tr>\n      <th>1297</th>\n      <td>1298</td>\n      <td>552-06-0509</td>\n      <td>1937-10-12</td>\n      <td>61</td>\n      <td>North</td>\n      <td>0</td>\n      <td>23700</td>\n      <td>9999</td>\n      <td>9999</td>\n    </tr>\n    <tr>\n      <th>1437</th>\n      <td>1438</td>\n      <td>452-69-6883</td>\n      <td>1974-01-16</td>\n      <td>25</td>\n      <td>South</td>\n      <td>0</td>\n      <td>116400</td>\n      <td>9999</td>\n      <td>9999</td>\n    </tr>\n  </tbody>\n</table>\n</div>"
     },
     "execution_count": 21,
     "metadata": {},
     "output_type": "execute_result"
    }
   ],
   "source": [
    "val = df['Purchases']==9999\n",
    "df[val]"
   ]
  },
  {
   "cell_type": "markdown",
   "id": "d3e0b221-f78e-443e-a9e0-3a00d596a2ee",
   "metadata": {},
   "source": [
    "Una volta individuate le righe con outliers in Purchases li sostituisco con la media generale"
   ]
  },
  {
   "cell_type": "code",
   "execution_count": 22,
   "id": "985b1eef-0772-4fa8-84e0-3361aefa54e2",
   "metadata": {
    "tags": [],
    "ExecuteTime": {
     "end_time": "2024-01-05T19:19:48.611886600Z",
     "start_time": "2024-01-05T19:19:48.585543500Z"
    }
   },
   "outputs": [
    {
     "name": "stdout",
     "output_type": "stream",
     "text": [
      "Customer                 int64\n",
      "SSN                     object\n",
      "Birthdate       datetime64[ns]\n",
      "Age                      int64\n",
      "Region                  object\n",
      "CredCardUser             int64\n",
      "Income                   int64\n",
      "Purchases                int64\n",
      "AmtSpent                 int64\n",
      "dtype: object\n"
     ]
    }
   ],
   "source": [
    "print(df.dtypes)"
   ]
  },
  {
   "cell_type": "code",
   "execution_count": 23,
   "id": "3dd1e3ea-f03d-49ca-8b38-bd40ec2a087a",
   "metadata": {
    "tags": [],
    "ExecuteTime": {
     "end_time": "2024-01-05T19:19:50.276712800Z",
     "start_time": "2024-01-05T19:19:50.257713900Z"
    }
   },
   "outputs": [
    {
     "data": {
      "text/plain": "Customer                 int64\nSSN                     object\nBirthdate       datetime64[ns]\nAge                      int64\nRegion                  object\nCredCardUser             int64\nIncome                   int64\nPurchases              float64\nAmtSpent                 int64\ndtype: object"
     },
     "execution_count": 23,
     "metadata": {},
     "output_type": "execute_result"
    }
   ],
   "source": [
    "df['Purchases']=df['Purchases'].replace(9999,None)\n",
    "media = df['Purchases'].mean()\n",
    "df['Purchases'] = df['Purchases'].fillna(value=media)\n",
    "\n",
    "df.dtypes"
   ]
  },
  {
   "cell_type": "code",
   "execution_count": 24,
   "id": "441a4816-bcf8-4721-bdb8-8f0cc2c69ee1",
   "metadata": {
    "ExecuteTime": {
     "end_time": "2024-01-05T19:19:52.771297200Z",
     "start_time": "2024-01-05T19:19:52.664052700Z"
    }
   },
   "outputs": [
    {
     "data": {
      "text/plain": "(array([ 68., 215., 358., 344., 269., 141.,  66.,  22.,  13.,   2.]),\n array([0. , 0.9, 1.8, 2.7, 3.6, 4.5, 5.4, 6.3, 7.2, 8.1, 9. ]),\n <BarContainer object of 10 artists>)"
     },
     "execution_count": 24,
     "metadata": {},
     "output_type": "execute_result"
    },
    {
     "data": {
      "text/plain": "<Figure size 640x480 with 1 Axes>",
      "image/png": "[encoded data removed]"
     },
     "metadata": {},
     "output_type": "display_data"
    }
   ],
   "source": [
    "plt.hist(df['Purchases'])"
   ]
  },
  {
   "cell_type": "code",
   "execution_count": 25,
   "id": "2d7b6a65-8521-4dc7-ba30-9b271bcdc414",
   "metadata": {
    "ExecuteTime": {
     "end_time": "2024-01-05T19:19:54.558073200Z",
     "start_time": "2024-01-05T19:19:54.414992100Z"
    }
   },
   "outputs": [
    {
     "data": {
      "text/plain": "(array([263., 357., 312., 310., 244.,   0.,   0.,   0.,   0.,  12.]),\n array([-15570. , -11835.8,  -8101.6,  -4367.4,   -633.2,   3101. ,\n          6835.2,  10569.4,  14303.6,  18037.8,  21772. ]),\n <BarContainer object of 10 artists>)"
     },
     "execution_count": 25,
     "metadata": {},
     "output_type": "execute_result"
    },
    {
     "data": {
      "text/plain": "<Figure size 640x480 with 1 Axes>",
      "image/png": "[encoded data removed]"
     },
     "metadata": {},
     "output_type": "display_data"
    }
   ],
   "source": [
    "plt.hist(df['Birthdate'])"
   ]
  },
  {
   "cell_type": "markdown",
   "id": "f2cdf6d4-0980-40ea-8e0d-aca8c62ace68",
   "metadata": {
    "tags": []
   },
   "source": [
    "Come possiamo notare ci sono alcune date non formattate bene dato che vengono considerate come\n",
    "se fossero post 2020.\n",
    "Procediamo a correggerle"
   ]
  },
  {
   "cell_type": "code",
   "execution_count": 26,
   "id": "57bb7020-96c8-4b5b-bcfc-7553350748fd",
   "metadata": {
    "tags": [],
    "ExecuteTime": {
     "end_time": "2024-01-05T19:19:57.226476800Z",
     "start_time": "2024-01-05T19:19:57.212375700Z"
    }
   },
   "outputs": [],
   "source": [
    "from dateutil.relativedelta import relativedelta\n",
    "\n",
    "for el in df['Birthdate']:\n",
    "    if el.year > 2000:\n",
    "        f = el - relativedelta(years=100)\n",
    "        df['Birthdate'] = df['Birthdate'].replace(el,f)"
   ]
  },
  {
   "cell_type": "code",
   "execution_count": 27,
   "id": "6571c635-5064-472a-99ff-73cf86300e05",
   "metadata": {
    "tags": [],
    "ExecuteTime": {
     "end_time": "2024-01-05T19:19:59.465211900Z",
     "start_time": "2024-01-05T19:19:59.333070800Z"
    }
   },
   "outputs": [
    {
     "data": {
      "text/plain": "(array([ 55., 163., 173., 175., 162., 170., 140., 167., 146., 147.]),\n array([-16215. , -14339.3, -12463.6, -10587.9,  -8712.2,  -6836.5,\n         -4960.8,  -3085.1,  -1209.4,    666.3,   2542. ]),\n <BarContainer object of 10 artists>)"
     },
     "execution_count": 27,
     "metadata": {},
     "output_type": "execute_result"
    },
    {
     "data": {
      "text/plain": "<Figure size 640x480 with 1 Axes>",
      "image/png": "[encoded data removed]"
     },
     "metadata": {},
     "output_type": "display_data"
    }
   ],
   "source": [
    "plt.hist(df['Birthdate'])"
   ]
  },
  {
   "cell_type": "markdown",
   "id": "fa70319c-4650-4ac3-b244-1fc73be2262a",
   "metadata": {
    "tags": []
   },
   "source": [
    "In questo modo abbiamo \"aggiustato\" il dataset"
   ]
  },
  {
   "cell_type": "markdown",
   "id": "1e2eab6f-2c3c-4442-b1c5-6e4f6f660718",
   "metadata": {},
   "source": [
    "Ora controlliamo se le regioni sono state scritte tutte in modo corretto"
   ]
  },
  {
   "cell_type": "code",
   "execution_count": 28,
   "id": "5476000d-f846-41d1-86f2-1aa4fa117402",
   "metadata": {
    "tags": [],
    "ExecuteTime": {
     "end_time": "2024-01-05T19:20:09.126403800Z",
     "start_time": "2024-01-05T19:20:09.096415200Z"
    }
   },
   "outputs": [
    {
     "data": {
      "text/plain": "array([' East', 'West', 'East', 'South', 'North', ' North', ' West',\n       ' South'], dtype=object)"
     },
     "execution_count": 28,
     "metadata": {},
     "output_type": "execute_result"
    }
   ],
   "source": [
    "df['Region'].unique()"
   ]
  },
  {
   "cell_type": "markdown",
   "id": "8fa58db3-99f5-4ed1-b1b4-b136925ecdea",
   "metadata": {},
   "source": [
    "Procediamo a correggere gli errori di digitazione"
   ]
  },
  {
   "cell_type": "code",
   "execution_count": 29,
   "id": "9bb945a2-43d8-404c-b7f4-9445aaddd611",
   "metadata": {
    "tags": [],
    "ExecuteTime": {
     "end_time": "2024-01-05T19:20:14.392582400Z",
     "start_time": "2024-01-05T19:20:14.377583200Z"
    }
   },
   "outputs": [
    {
     "name": "stdout",
     "output_type": "stream",
     "text": [
      "Gli errori di digitazione nella colonna 1 sono stati corretti\n",
      "0        East\n",
      "1        West\n",
      "2        East\n",
      "3        West\n",
      "4        East\n",
      "        ...  \n",
      "1495     West\n",
      "1496    South\n",
      "1497    North\n",
      "1498    South\n",
      "1499    South\n",
      "Name: Region, Length: 1498, dtype: object\n"
     ]
    }
   ],
   "source": [
    "dizionario = {' East':'East',' North':'North', ' West':'West', ' South':'South'}\n",
    "\n",
    "digiterror = df['Region'].isin(dizionario.keys())\n",
    "\n",
    "if digiterror.any():\n",
    "    df['Region'].replace(dizionario, inplace=True)\n",
    "    print('Gli errori di digitazione nella colonna 1 sono stati corretti')\n",
    "    print(df['Region'])\n",
    "else:\n",
    "    print('Non ci sono errori di digitazione.')"
   ]
  },
  {
   "cell_type": "markdown",
   "id": "79434db8-39a9-441f-8fed-a6b79e1a321c",
   "metadata": {},
   "source": [
    "Controlliamo se ci sono errori di formattazione all'interno della serie 'CredCardUser'"
   ]
  },
  {
   "cell_type": "code",
   "execution_count": 30,
   "id": "491940bc-d3ff-4e67-a9a5-389082f94b01",
   "metadata": {
    "tags": [],
    "ExecuteTime": {
     "end_time": "2024-01-05T19:20:18.257641600Z",
     "start_time": "2024-01-05T19:20:18.245645Z"
    }
   },
   "outputs": [
    {
     "name": "stdout",
     "output_type": "stream",
     "text": [
      "Non ci sono errori di formattazione.\n"
     ]
    }
   ],
   "source": [
    "errori = pd.to_numeric(df['CredCardUser']).isna().sum()\n",
    "if errori:\n",
    "    print('Ci sono',errori,'errori di formattazione.')\n",
    "else:\n",
    "    print('Non ci sono errori di formattazione.')"
   ]
  },
  {
   "cell_type": "markdown",
   "id": "7900d974-334e-4cb0-a941-85c04bd954ff",
   "metadata": {},
   "source": [
    "Controlliamo se sono presenti valori sconosciuti di 'Age'"
   ]
  },
  {
   "cell_type": "code",
   "execution_count": 31,
   "id": "52f27a5c-b702-4844-ac70-f6a3d988f7db",
   "metadata": {
    "tags": [],
    "ExecuteTime": {
     "end_time": "2024-01-05T19:20:21.388967300Z",
     "start_time": "2024-01-05T19:20:21.379983800Z"
    }
   },
   "outputs": [
    {
     "name": "stdout",
     "output_type": "stream",
     "text": [
      "Sono presenti 0 valori sconosciuti nella colonna Age.\n"
     ]
    }
   ],
   "source": [
    "val_sconosciuti = df['Age'].isnull().sum()\n",
    "if val_sconosciuti:\n",
    "    print('Non sono presenti valori sconosciuti di \"Age\".\\n')\n",
    "else:\n",
    "    print('Sono presenti',val_sconosciuti,'valori sconosciuti nella colonna Age.\\n')\n",
    " "
   ]
  },
  {
   "cell_type": "code",
   "execution_count": null,
   "id": "03af2468-67a9-4c75-876d-8d5572e6300b",
   "metadata": {},
   "outputs": [],
   "source": []
  }
 ],
 "metadata": {
  "kernelspec": {
   "display_name": "Python 3 (ipykernel)",
   "language": "python",
   "name": "python3"
  },
  "language_info": {
   "codemirror_mode": {
    "name": "ipython",
    "version": 3
   },
   "file_extension": ".py",
   "mimetype": "text/x-python",
   "name": "python",
   "nbconvert_exporter": "python",
   "pygments_lexer": "ipython3",
   "version": "3.12.0"
  }
 },
 "nbformat": 4,
 "nbformat_minor": 5
}
