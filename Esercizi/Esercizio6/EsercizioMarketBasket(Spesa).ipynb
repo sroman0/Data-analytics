{
 "cells": [
  {
   "cell_type": "code",
   "execution_count": 1,
   "id": "2fb4a15c-5d53-406b-8e25-ce831a571547",
   "metadata": {
    "tags": [],
    "ExecuteTime": {
     "end_time": "2024-01-06T10:29:58.841904400Z",
     "start_time": "2024-01-06T10:29:58.577477200Z"
    }
   },
   "outputs": [],
   "source": [
    "import numpy as np\n",
    "import pandas as pd\n",
    "from matplotlib import pyplot as plt\n",
    "import seaborn as sns\n",
    "from csv import reader\n",
    "from mlxtend.preprocessing import TransactionEncoder\n",
    "from mlxtend.frequent_patterns import apriori, association_rules\n",
    "pd.set_option(\"display.max_columns\", None)"
   ]
  },
  {
   "cell_type": "markdown",
   "id": "2228bcbd-2a65-4786-9d69-a8881b830dc9",
   "metadata": {},
   "source": [
    "Leggiamo il dataset"
   ]
  },
  {
   "cell_type": "code",
   "execution_count": 2,
   "id": "07d6777b-1ed2-43ae-916b-be91ad028ca3",
   "metadata": {
    "tags": [],
    "ExecuteTime": {
     "end_time": "2024-01-06T10:30:11.555122900Z",
     "start_time": "2024-01-06T10:30:11.483085100Z"
    }
   },
   "outputs": [],
   "source": [
    "df = pd.read_csv(\"Groceries_dataset.csv\")"
   ]
  },
  {
   "cell_type": "markdown",
   "id": "99c6d40a-b423-4bc9-bca1-bbf176036134",
   "metadata": {},
   "source": [
    "Dopo aver letto il dataset prepariamo il dataframe delle transazioni in un formato che permette di poter applicare l'algoritmo Apriori.\n",
    "\n",
    "Usiamo MLXtend : inseriamo l'oggetto nell'elenco e lo convertiamo\n",
    "in un df pandas ( Articolo acq = 1 , Articolo non acq = 0 )"
   ]
  },
  {
   "cell_type": "code",
   "execution_count": 3,
   "id": "f6bb83ea-be31-4611-a494-6869e23b4132",
   "metadata": {
    "tags": [],
    "ExecuteTime": {
     "end_time": "2024-01-06T10:30:31.954343300Z",
     "start_time": "2024-01-06T10:30:31.594314300Z"
    }
   },
   "outputs": [
    {
     "data": {
      "text/plain": "       Member_number        Date  \\\n0               1000  15-03-2015   \n1               1000  24-06-2014   \n2               1000  24-07-2015   \n3               1000  25-11-2015   \n4               1000  27-05-2015   \n...              ...         ...   \n14958           4999  24-01-2015   \n14959           4999  26-12-2015   \n14960           5000  09-03-2014   \n14961           5000  10-02-2015   \n14962           5000  16-11-2014   \n\n                                         itemDescription  \n0      [sausage, whole milk, semi-finished bread, yog...  \n1                      [whole milk, pastry, salty snack]  \n2                         [canned beer, misc. beverages]  \n3                            [sausage, hygiene articles]  \n4                             [soda, pickled vegetables]  \n...                                                  ...  \n14958  [tropical fruit, berries, other vegetables, yo...  \n14959                             [bottled water, herbs]  \n14960                    [fruit/vegetable juice, onions]  \n14961       [soda, root vegetables, semi-finished bread]  \n14962                   [bottled beer, other vegetables]  \n\n[14963 rows x 3 columns]",
      "text/html": "<div>\n<style scoped>\n    .dataframe tbody tr th:only-of-type {\n        vertical-align: middle;\n    }\n\n    .dataframe tbody tr th {\n        vertical-align: top;\n    }\n\n    .dataframe thead th {\n        text-align: right;\n    }\n</style>\n<table border=\"1\" class=\"dataframe\">\n  <thead>\n    <tr style=\"text-align: right;\">\n      <th></th>\n      <th>Member_number</th>\n      <th>Date</th>\n      <th>itemDescription</th>\n    </tr>\n  </thead>\n  <tbody>\n    <tr>\n      <th>0</th>\n      <td>1000</td>\n      <td>15-03-2015</td>\n      <td>[sausage, whole milk, semi-finished bread, yog...</td>\n    </tr>\n    <tr>\n      <th>1</th>\n      <td>1000</td>\n      <td>24-06-2014</td>\n      <td>[whole milk, pastry, salty snack]</td>\n    </tr>\n    <tr>\n      <th>2</th>\n      <td>1000</td>\n      <td>24-07-2015</td>\n      <td>[canned beer, misc. beverages]</td>\n    </tr>\n    <tr>\n      <th>3</th>\n      <td>1000</td>\n      <td>25-11-2015</td>\n      <td>[sausage, hygiene articles]</td>\n    </tr>\n    <tr>\n      <th>4</th>\n      <td>1000</td>\n      <td>27-05-2015</td>\n      <td>[soda, pickled vegetables]</td>\n    </tr>\n    <tr>\n      <th>...</th>\n      <td>...</td>\n      <td>...</td>\n      <td>...</td>\n    </tr>\n    <tr>\n      <th>14958</th>\n      <td>4999</td>\n      <td>24-01-2015</td>\n      <td>[tropical fruit, berries, other vegetables, yo...</td>\n    </tr>\n    <tr>\n      <th>14959</th>\n      <td>4999</td>\n      <td>26-12-2015</td>\n      <td>[bottled water, herbs]</td>\n    </tr>\n    <tr>\n      <th>14960</th>\n      <td>5000</td>\n      <td>09-03-2014</td>\n      <td>[fruit/vegetable juice, onions]</td>\n    </tr>\n    <tr>\n      <th>14961</th>\n      <td>5000</td>\n      <td>10-02-2015</td>\n      <td>[soda, root vegetables, semi-finished bread]</td>\n    </tr>\n    <tr>\n      <th>14962</th>\n      <td>5000</td>\n      <td>16-11-2014</td>\n      <td>[bottled beer, other vegetables]</td>\n    </tr>\n  </tbody>\n</table>\n<p>14963 rows × 3 columns</p>\n</div>"
     },
     "execution_count": 3,
     "metadata": {},
     "output_type": "execute_result"
    }
   ],
   "source": [
    "DataFrame = pd.DataFrame({'itemDescription' : df.groupby( [ \"Member_number\", \"Date\"] )[\"itemDescription\"].apply(list)}).reset_index()\n",
    "DataFrame"
   ]
  },
  {
   "cell_type": "code",
   "execution_count": 4,
   "id": "eb6cef97-53c2-4d9f-958a-e026fd01c8e2",
   "metadata": {
    "tags": [],
    "ExecuteTime": {
     "end_time": "2024-01-06T10:30:56.729038600Z",
     "start_time": "2024-01-06T10:30:56.657005100Z"
    }
   },
   "outputs": [
    {
     "data": {
      "text/plain": "   Instant food products  UHT-milk  abrasive cleaner  artif. sweetener  \\\n0                      0         0                 0                 0   \n1                      0         0                 0                 0   \n2                      0         0                 0                 0   \n3                      0         0                 0                 0   \n4                      0         0                 0                 0   \n\n   baby cosmetics  bags  baking powder  bathroom cleaner  beef  berries  \\\n0               0     0              0                 0     0        0   \n1               0     0              0                 0     0        0   \n2               0     0              0                 0     0        0   \n3               0     0              0                 0     0        0   \n4               0     0              0                 0     0        0   \n\n   beverages  bottled beer  bottled water  brandy  brown bread  butter  \\\n0          0             0              0       0            0       0   \n1          0             0              0       0            0       0   \n2          0             0              0       0            0       0   \n3          0             0              0       0            0       0   \n4          0             0              0       0            0       0   \n\n   butter milk  cake bar  candles  candy  canned beer  canned fish  \\\n0            0         0        0      0            0            0   \n1            0         0        0      0            0            0   \n2            0         0        0      0            1            0   \n3            0         0        0      0            0            0   \n4            0         0        0      0            0            0   \n\n   canned fruit  canned vegetables  cat food  cereals  chewing gum  chicken  \\\n0             0                  0         0        0            0        0   \n1             0                  0         0        0            0        0   \n2             0                  0         0        0            0        0   \n3             0                  0         0        0            0        0   \n4             0                  0         0        0            0        0   \n\n   chocolate  chocolate marshmallow  citrus fruit  cleaner  cling film/bags  \\\n0          0                      0             0        0                0   \n1          0                      0             0        0                0   \n2          0                      0             0        0                0   \n3          0                      0             0        0                0   \n4          0                      0             0        0                0   \n\n   cocoa drinks  coffee  condensed milk  cooking chocolate  cookware  cream  \\\n0             0       0               0                  0         0      0   \n1             0       0               0                  0         0      0   \n2             0       0               0                  0         0      0   \n3             0       0               0                  0         0      0   \n4             0       0               0                  0         0      0   \n\n   cream cheese   curd  curd cheese  decalcifier  dental care  dessert  \\\n0              0     0            0            0            0        0   \n1              0     0            0            0            0        0   \n2              0     0            0            0            0        0   \n3              0     0            0            0            0        0   \n4              0     0            0            0            0        0   \n\n   detergent  dish cleaner  dishes  dog food  domestic eggs  \\\n0          0             0       0         0              0   \n1          0             0       0         0              0   \n2          0             0       0         0              0   \n3          0             0       0         0              0   \n4          0             0       0         0              0   \n\n   female sanitary products  finished products  fish  flour  flower (seeds)  \\\n0                         0                  0     0      0               0   \n1                         0                  0     0      0               0   \n2                         0                  0     0      0               0   \n3                         0                  0     0      0               0   \n4                         0                  0     0      0               0   \n\n   flower soil/fertilizer  frankfurter  frozen chicken  frozen dessert  \\\n0                       0            0               0               0   \n1                       0            0               0               0   \n2                       0            0               0               0   \n3                       0            0               0               0   \n4                       0            0               0               0   \n\n   frozen fish  frozen fruits  frozen meals  frozen potato products  \\\n0            0              0             0                       0   \n1            0              0             0                       0   \n2            0              0             0                       0   \n3            0              0             0                       0   \n4            0              0             0                       0   \n\n   frozen vegetables  fruit/vegetable juice  grapes  hair spray  ham  \\\n0                  0                      0       0           0    0   \n1                  0                      0       0           0    0   \n2                  0                      0       0           0    0   \n3                  0                      0       0           0    0   \n4                  0                      0       0           0    0   \n\n   hamburger meat  hard cheese  herbs  honey  house keeping products  \\\n0               0            0      0      0                       0   \n1               0            0      0      0                       0   \n2               0            0      0      0                       0   \n3               0            0      0      0                       0   \n4               0            0      0      0                       0   \n\n   hygiene articles  ice cream  instant coffee  jam  ketchup  kitchen towels  \\\n0                 0          0               0    0        0               0   \n1                 0          0               0    0        0               0   \n2                 0          0               0    0        0               0   \n3                 1          0               0    0        0               0   \n4                 0          0               0    0        0               0   \n\n   kitchen utensil  light bulbs  liqueur  liquor  liquor (appetizer)  \\\n0                0            0        0       0                   0   \n1                0            0        0       0                   0   \n2                0            0        0       0                   0   \n3                0            0        0       0                   0   \n4                0            0        0       0                   0   \n\n   liver loaf  long life bakery product  make up remover  male cosmetics  \\\n0           0                         0                0               0   \n1           0                         0                0               0   \n2           0                         0                0               0   \n3           0                         0                0               0   \n4           0                         0                0               0   \n\n   margarine  mayonnaise  meat  meat spreads  misc. beverages  mustard  \\\n0          0           0     0             0                0        0   \n1          0           0     0             0                0        0   \n2          0           0     0             0                1        0   \n3          0           0     0             0                0        0   \n4          0           0     0             0                0        0   \n\n   napkins  newspapers  nut snack  nuts/prunes  oil  onions  organic products  \\\n0        0           0          0            0    0       0                 0   \n1        0           0          0            0    0       0                 0   \n2        0           0          0            0    0       0                 0   \n3        0           0          0            0    0       0                 0   \n4        0           0          0            0    0       0                 0   \n\n   organic sausage  other vegetables  packaged fruit/vegetables  pasta  \\\n0                0                 0                          0      0   \n1                0                 0                          0      0   \n2                0                 0                          0      0   \n3                0                 0                          0      0   \n4                0                 0                          0      0   \n\n   pastry  pet care  photo/film  pickled vegetables  pip fruit  popcorn  pork  \\\n0       0         0           0                   0          0        0     0   \n1       1         0           0                   0          0        0     0   \n2       0         0           0                   0          0        0     0   \n3       0         0           0                   0          0        0     0   \n4       0         0           0                   1          0        0     0   \n\n   pot plants  potato products  preservation products  processed cheese  \\\n0           0                0                      0                 0   \n1           0                0                      0                 0   \n2           0                0                      0                 0   \n3           0                0                      0                 0   \n4           0                0                      0                 0   \n\n   prosecco  pudding powder  ready soups  red/blush wine  rice  \\\n0         0               0            0               0     0   \n1         0               0            0               0     0   \n2         0               0            0               0     0   \n3         0               0            0               0     0   \n4         0               0            0               0     0   \n\n   roll products   rolls/buns  root vegetables  rubbing alcohol  rum  \\\n0               0           0                0                0    0   \n1               0           0                0                0    0   \n2               0           0                0                0    0   \n3               0           0                0                0    0   \n4               0           0                0                0    0   \n\n   salad dressing  salt  salty snack  sauces  sausage  seasonal products  \\\n0               0     0            0       0        1                  0   \n1               0     0            1       0        0                  0   \n2               0     0            0       0        0                  0   \n3               0     0            0       0        1                  0   \n4               0     0            0       0        0                  0   \n\n   semi-finished bread  shopping bags  skin care  sliced cheese  \\\n0                    1              0          0              0   \n1                    0              0          0              0   \n2                    0              0          0              0   \n3                    0              0          0              0   \n4                    0              0          0              0   \n\n   snack products  soap  soda  soft cheese  softener  soups  sparkling wine  \\\n0               0     0     0            0         0      0               0   \n1               0     0     0            0         0      0               0   \n2               0     0     0            0         0      0               0   \n3               0     0     0            0         0      0               0   \n4               0     0     1            0         0      0               0   \n\n   specialty bar  specialty cheese  specialty chocolate  specialty fat  \\\n0              0                 0                    0              0   \n1              0                 0                    0              0   \n2              0                 0                    0              0   \n3              0                 0                    0              0   \n4              0                 0                    0              0   \n\n   specialty vegetables  spices  spread cheese  sugar  sweet spreads  syrup  \\\n0                     0       0              0      0              0      0   \n1                     0       0              0      0              0      0   \n2                     0       0              0      0              0      0   \n3                     0       0              0      0              0      0   \n4                     0       0              0      0              0      0   \n\n   tea  tidbits  toilet cleaner  tropical fruit  turkey  vinegar  waffles  \\\n0    0        0               0               0       0        0        0   \n1    0        0               0               0       0        0        0   \n2    0        0               0               0       0        0        0   \n3    0        0               0               0       0        0        0   \n4    0        0               0               0       0        0        0   \n\n   whipped/sour cream  whisky  white bread  white wine  whole milk  yogurt  \\\n0                   0       0            0           0           1       1   \n1                   0       0            0           0           1       0   \n2                   0       0            0           0           0       0   \n3                   0       0            0           0           0       0   \n4                   0       0            0           0           0       0   \n\n   zwieback  \n0         0  \n1         0  \n2         0  \n3         0  \n4         0  ",
      "text/html": "<div>\n<style scoped>\n    .dataframe tbody tr th:only-of-type {\n        vertical-align: middle;\n    }\n\n    .dataframe tbody tr th {\n        vertical-align: top;\n    }\n\n    .dataframe thead th {\n        text-align: right;\n    }\n</style>\n<table border=\"1\" class=\"dataframe\">\n  <thead>\n    <tr style=\"text-align: right;\">\n      <th></th>\n      <th>Instant food products</th>\n      <th>UHT-milk</th>\n      <th>abrasive cleaner</th>\n      <th>artif. sweetener</th>\n      <th>baby cosmetics</th>\n      <th>bags</th>\n      <th>baking powder</th>\n      <th>bathroom cleaner</th>\n      <th>beef</th>\n      <th>berries</th>\n      <th>beverages</th>\n      <th>bottled beer</th>\n      <th>bottled water</th>\n      <th>brandy</th>\n      <th>brown bread</th>\n      <th>butter</th>\n      <th>butter milk</th>\n      <th>cake bar</th>\n      <th>candles</th>\n      <th>candy</th>\n      <th>canned beer</th>\n      <th>canned fish</th>\n      <th>canned fruit</th>\n      <th>canned vegetables</th>\n      <th>cat food</th>\n      <th>cereals</th>\n      <th>chewing gum</th>\n      <th>chicken</th>\n      <th>chocolate</th>\n      <th>chocolate marshmallow</th>\n      <th>citrus fruit</th>\n      <th>cleaner</th>\n      <th>cling film/bags</th>\n      <th>cocoa drinks</th>\n      <th>coffee</th>\n      <th>condensed milk</th>\n      <th>cooking chocolate</th>\n      <th>cookware</th>\n      <th>cream</th>\n      <th>cream cheese</th>\n      <th>curd</th>\n      <th>curd cheese</th>\n      <th>decalcifier</th>\n      <th>dental care</th>\n      <th>dessert</th>\n      <th>detergent</th>\n      <th>dish cleaner</th>\n      <th>dishes</th>\n      <th>dog food</th>\n      <th>domestic eggs</th>\n      <th>female sanitary products</th>\n      <th>finished products</th>\n      <th>fish</th>\n      <th>flour</th>\n      <th>flower (seeds)</th>\n      <th>flower soil/fertilizer</th>\n      <th>frankfurter</th>\n      <th>frozen chicken</th>\n      <th>frozen dessert</th>\n      <th>frozen fish</th>\n      <th>frozen fruits</th>\n      <th>frozen meals</th>\n      <th>frozen potato products</th>\n      <th>frozen vegetables</th>\n      <th>fruit/vegetable juice</th>\n      <th>grapes</th>\n      <th>hair spray</th>\n      <th>ham</th>\n      <th>hamburger meat</th>\n      <th>hard cheese</th>\n      <th>herbs</th>\n      <th>honey</th>\n      <th>house keeping products</th>\n      <th>hygiene articles</th>\n      <th>ice cream</th>\n      <th>instant coffee</th>\n      <th>jam</th>\n      <th>ketchup</th>\n      <th>kitchen towels</th>\n      <th>kitchen utensil</th>\n      <th>light bulbs</th>\n      <th>liqueur</th>\n      <th>liquor</th>\n      <th>liquor (appetizer)</th>\n      <th>liver loaf</th>\n      <th>long life bakery product</th>\n      <th>make up remover</th>\n      <th>male cosmetics</th>\n      <th>margarine</th>\n      <th>mayonnaise</th>\n      <th>meat</th>\n      <th>meat spreads</th>\n      <th>misc. beverages</th>\n      <th>mustard</th>\n      <th>napkins</th>\n      <th>newspapers</th>\n      <th>nut snack</th>\n      <th>nuts/prunes</th>\n      <th>oil</th>\n      <th>onions</th>\n      <th>organic products</th>\n      <th>organic sausage</th>\n      <th>other vegetables</th>\n      <th>packaged fruit/vegetables</th>\n      <th>pasta</th>\n      <th>pastry</th>\n      <th>pet care</th>\n      <th>photo/film</th>\n      <th>pickled vegetables</th>\n      <th>pip fruit</th>\n      <th>popcorn</th>\n      <th>pork</th>\n      <th>pot plants</th>\n      <th>potato products</th>\n      <th>preservation products</th>\n      <th>processed cheese</th>\n      <th>prosecco</th>\n      <th>pudding powder</th>\n      <th>ready soups</th>\n      <th>red/blush wine</th>\n      <th>rice</th>\n      <th>roll products</th>\n      <th>rolls/buns</th>\n      <th>root vegetables</th>\n      <th>rubbing alcohol</th>\n      <th>rum</th>\n      <th>salad dressing</th>\n      <th>salt</th>\n      <th>salty snack</th>\n      <th>sauces</th>\n      <th>sausage</th>\n      <th>seasonal products</th>\n      <th>semi-finished bread</th>\n      <th>shopping bags</th>\n      <th>skin care</th>\n      <th>sliced cheese</th>\n      <th>snack products</th>\n      <th>soap</th>\n      <th>soda</th>\n      <th>soft cheese</th>\n      <th>softener</th>\n      <th>soups</th>\n      <th>sparkling wine</th>\n      <th>specialty bar</th>\n      <th>specialty cheese</th>\n      <th>specialty chocolate</th>\n      <th>specialty fat</th>\n      <th>specialty vegetables</th>\n      <th>spices</th>\n      <th>spread cheese</th>\n      <th>sugar</th>\n      <th>sweet spreads</th>\n      <th>syrup</th>\n      <th>tea</th>\n      <th>tidbits</th>\n      <th>toilet cleaner</th>\n      <th>tropical fruit</th>\n      <th>turkey</th>\n      <th>vinegar</th>\n      <th>waffles</th>\n      <th>whipped/sour cream</th>\n      <th>whisky</th>\n      <th>white bread</th>\n      <th>white wine</th>\n      <th>whole milk</th>\n      <th>yogurt</th>\n      <th>zwieback</th>\n    </tr>\n  </thead>\n  <tbody>\n    <tr>\n      <th>0</th>\n      <td>0</td>\n      <td>0</td>\n      <td>0</td>\n      <td>0</td>\n      <td>0</td>\n      <td>0</td>\n      <td>0</td>\n      <td>0</td>\n      <td>0</td>\n      <td>0</td>\n      <td>0</td>\n      <td>0</td>\n      <td>0</td>\n      <td>0</td>\n      <td>0</td>\n      <td>0</td>\n      <td>0</td>\n      <td>0</td>\n      <td>0</td>\n      <td>0</td>\n      <td>0</td>\n      <td>0</td>\n      <td>0</td>\n      <td>0</td>\n      <td>0</td>\n      <td>0</td>\n      <td>0</td>\n      <td>0</td>\n      <td>0</td>\n      <td>0</td>\n      <td>0</td>\n      <td>0</td>\n      <td>0</td>\n      <td>0</td>\n      <td>0</td>\n      <td>0</td>\n      <td>0</td>\n      <td>0</td>\n      <td>0</td>\n      <td>0</td>\n      <td>0</td>\n      <td>0</td>\n      <td>0</td>\n      <td>0</td>\n      <td>0</td>\n      <td>0</td>\n      <td>0</td>\n      <td>0</td>\n      <td>0</td>\n      <td>0</td>\n      <td>0</td>\n      <td>0</td>\n      <td>0</td>\n      <td>0</td>\n      <td>0</td>\n      <td>0</td>\n      <td>0</td>\n      <td>0</td>\n      <td>0</td>\n      <td>0</td>\n      <td>0</td>\n      <td>0</td>\n      <td>0</td>\n      <td>0</td>\n      <td>0</td>\n      <td>0</td>\n      <td>0</td>\n      <td>0</td>\n      <td>0</td>\n      <td>0</td>\n      <td>0</td>\n      <td>0</td>\n      <td>0</td>\n      <td>0</td>\n      <td>0</td>\n      <td>0</td>\n      <td>0</td>\n      <td>0</td>\n      <td>0</td>\n      <td>0</td>\n      <td>0</td>\n      <td>0</td>\n      <td>0</td>\n      <td>0</td>\n      <td>0</td>\n      <td>0</td>\n      <td>0</td>\n      <td>0</td>\n      <td>0</td>\n      <td>0</td>\n      <td>0</td>\n      <td>0</td>\n      <td>0</td>\n      <td>0</td>\n      <td>0</td>\n      <td>0</td>\n      <td>0</td>\n      <td>0</td>\n      <td>0</td>\n      <td>0</td>\n      <td>0</td>\n      <td>0</td>\n      <td>0</td>\n      <td>0</td>\n      <td>0</td>\n      <td>0</td>\n      <td>0</td>\n      <td>0</td>\n      <td>0</td>\n      <td>0</td>\n      <td>0</td>\n      <td>0</td>\n      <td>0</td>\n      <td>0</td>\n      <td>0</td>\n      <td>0</td>\n      <td>0</td>\n      <td>0</td>\n      <td>0</td>\n      <td>0</td>\n      <td>0</td>\n      <td>0</td>\n      <td>0</td>\n      <td>0</td>\n      <td>0</td>\n      <td>0</td>\n      <td>0</td>\n      <td>0</td>\n      <td>0</td>\n      <td>0</td>\n      <td>1</td>\n      <td>0</td>\n      <td>1</td>\n      <td>0</td>\n      <td>0</td>\n      <td>0</td>\n      <td>0</td>\n      <td>0</td>\n      <td>0</td>\n      <td>0</td>\n      <td>0</td>\n      <td>0</td>\n      <td>0</td>\n      <td>0</td>\n      <td>0</td>\n      <td>0</td>\n      <td>0</td>\n      <td>0</td>\n      <td>0</td>\n      <td>0</td>\n      <td>0</td>\n      <td>0</td>\n      <td>0</td>\n      <td>0</td>\n      <td>0</td>\n      <td>0</td>\n      <td>0</td>\n      <td>0</td>\n      <td>0</td>\n      <td>0</td>\n      <td>0</td>\n      <td>0</td>\n      <td>0</td>\n      <td>0</td>\n      <td>1</td>\n      <td>1</td>\n      <td>0</td>\n    </tr>\n    <tr>\n      <th>1</th>\n      <td>0</td>\n      <td>0</td>\n      <td>0</td>\n      <td>0</td>\n      <td>0</td>\n      <td>0</td>\n      <td>0</td>\n      <td>0</td>\n      <td>0</td>\n      <td>0</td>\n      <td>0</td>\n      <td>0</td>\n      <td>0</td>\n      <td>0</td>\n      <td>0</td>\n      <td>0</td>\n      <td>0</td>\n      <td>0</td>\n      <td>0</td>\n      <td>0</td>\n      <td>0</td>\n      <td>0</td>\n      <td>0</td>\n      <td>0</td>\n      <td>0</td>\n      <td>0</td>\n      <td>0</td>\n      <td>0</td>\n      <td>0</td>\n      <td>0</td>\n      <td>0</td>\n      <td>0</td>\n      <td>0</td>\n      <td>0</td>\n      <td>0</td>\n      <td>0</td>\n      <td>0</td>\n      <td>0</td>\n      <td>0</td>\n      <td>0</td>\n      <td>0</td>\n      <td>0</td>\n      <td>0</td>\n      <td>0</td>\n      <td>0</td>\n      <td>0</td>\n      <td>0</td>\n      <td>0</td>\n      <td>0</td>\n      <td>0</td>\n      <td>0</td>\n      <td>0</td>\n      <td>0</td>\n      <td>0</td>\n      <td>0</td>\n      <td>0</td>\n      <td>0</td>\n      <td>0</td>\n      <td>0</td>\n      <td>0</td>\n      <td>0</td>\n      <td>0</td>\n      <td>0</td>\n      <td>0</td>\n      <td>0</td>\n      <td>0</td>\n      <td>0</td>\n      <td>0</td>\n      <td>0</td>\n      <td>0</td>\n      <td>0</td>\n      <td>0</td>\n      <td>0</td>\n      <td>0</td>\n      <td>0</td>\n      <td>0</td>\n      <td>0</td>\n      <td>0</td>\n      <td>0</td>\n      <td>0</td>\n      <td>0</td>\n      <td>0</td>\n      <td>0</td>\n      <td>0</td>\n      <td>0</td>\n      <td>0</td>\n      <td>0</td>\n      <td>0</td>\n      <td>0</td>\n      <td>0</td>\n      <td>0</td>\n      <td>0</td>\n      <td>0</td>\n      <td>0</td>\n      <td>0</td>\n      <td>0</td>\n      <td>0</td>\n      <td>0</td>\n      <td>0</td>\n      <td>0</td>\n      <td>0</td>\n      <td>0</td>\n      <td>0</td>\n      <td>0</td>\n      <td>0</td>\n      <td>1</td>\n      <td>0</td>\n      <td>0</td>\n      <td>0</td>\n      <td>0</td>\n      <td>0</td>\n      <td>0</td>\n      <td>0</td>\n      <td>0</td>\n      <td>0</td>\n      <td>0</td>\n      <td>0</td>\n      <td>0</td>\n      <td>0</td>\n      <td>0</td>\n      <td>0</td>\n      <td>0</td>\n      <td>0</td>\n      <td>0</td>\n      <td>0</td>\n      <td>0</td>\n      <td>0</td>\n      <td>0</td>\n      <td>1</td>\n      <td>0</td>\n      <td>0</td>\n      <td>0</td>\n      <td>0</td>\n      <td>0</td>\n      <td>0</td>\n      <td>0</td>\n      <td>0</td>\n      <td>0</td>\n      <td>0</td>\n      <td>0</td>\n      <td>0</td>\n      <td>0</td>\n      <td>0</td>\n      <td>0</td>\n      <td>0</td>\n      <td>0</td>\n      <td>0</td>\n      <td>0</td>\n      <td>0</td>\n      <td>0</td>\n      <td>0</td>\n      <td>0</td>\n      <td>0</td>\n      <td>0</td>\n      <td>0</td>\n      <td>0</td>\n      <td>0</td>\n      <td>0</td>\n      <td>0</td>\n      <td>0</td>\n      <td>0</td>\n      <td>0</td>\n      <td>0</td>\n      <td>0</td>\n      <td>1</td>\n      <td>0</td>\n      <td>0</td>\n    </tr>\n    <tr>\n      <th>2</th>\n      <td>0</td>\n      <td>0</td>\n      <td>0</td>\n      <td>0</td>\n      <td>0</td>\n      <td>0</td>\n      <td>0</td>\n      <td>0</td>\n      <td>0</td>\n      <td>0</td>\n      <td>0</td>\n      <td>0</td>\n      <td>0</td>\n      <td>0</td>\n      <td>0</td>\n      <td>0</td>\n      <td>0</td>\n      <td>0</td>\n      <td>0</td>\n      <td>0</td>\n      <td>1</td>\n      <td>0</td>\n      <td>0</td>\n      <td>0</td>\n      <td>0</td>\n      <td>0</td>\n      <td>0</td>\n      <td>0</td>\n      <td>0</td>\n      <td>0</td>\n      <td>0</td>\n      <td>0</td>\n      <td>0</td>\n      <td>0</td>\n      <td>0</td>\n      <td>0</td>\n      <td>0</td>\n      <td>0</td>\n      <td>0</td>\n      <td>0</td>\n      <td>0</td>\n      <td>0</td>\n      <td>0</td>\n      <td>0</td>\n      <td>0</td>\n      <td>0</td>\n      <td>0</td>\n      <td>0</td>\n      <td>0</td>\n      <td>0</td>\n      <td>0</td>\n      <td>0</td>\n      <td>0</td>\n      <td>0</td>\n      <td>0</td>\n      <td>0</td>\n      <td>0</td>\n      <td>0</td>\n      <td>0</td>\n      <td>0</td>\n      <td>0</td>\n      <td>0</td>\n      <td>0</td>\n      <td>0</td>\n      <td>0</td>\n      <td>0</td>\n      <td>0</td>\n      <td>0</td>\n      <td>0</td>\n      <td>0</td>\n      <td>0</td>\n      <td>0</td>\n      <td>0</td>\n      <td>0</td>\n      <td>0</td>\n      <td>0</td>\n      <td>0</td>\n      <td>0</td>\n      <td>0</td>\n      <td>0</td>\n      <td>0</td>\n      <td>0</td>\n      <td>0</td>\n      <td>0</td>\n      <td>0</td>\n      <td>0</td>\n      <td>0</td>\n      <td>0</td>\n      <td>0</td>\n      <td>0</td>\n      <td>0</td>\n      <td>0</td>\n      <td>1</td>\n      <td>0</td>\n      <td>0</td>\n      <td>0</td>\n      <td>0</td>\n      <td>0</td>\n      <td>0</td>\n      <td>0</td>\n      <td>0</td>\n      <td>0</td>\n      <td>0</td>\n      <td>0</td>\n      <td>0</td>\n      <td>0</td>\n      <td>0</td>\n      <td>0</td>\n      <td>0</td>\n      <td>0</td>\n      <td>0</td>\n      <td>0</td>\n      <td>0</td>\n      <td>0</td>\n      <td>0</td>\n      <td>0</td>\n      <td>0</td>\n      <td>0</td>\n      <td>0</td>\n      <td>0</td>\n      <td>0</td>\n      <td>0</td>\n      <td>0</td>\n      <td>0</td>\n      <td>0</td>\n      <td>0</td>\n      <td>0</td>\n      <td>0</td>\n      <td>0</td>\n      <td>0</td>\n      <td>0</td>\n      <td>0</td>\n      <td>0</td>\n      <td>0</td>\n      <td>0</td>\n      <td>0</td>\n      <td>0</td>\n      <td>0</td>\n      <td>0</td>\n      <td>0</td>\n      <td>0</td>\n      <td>0</td>\n      <td>0</td>\n      <td>0</td>\n      <td>0</td>\n      <td>0</td>\n      <td>0</td>\n      <td>0</td>\n      <td>0</td>\n      <td>0</td>\n      <td>0</td>\n      <td>0</td>\n      <td>0</td>\n      <td>0</td>\n      <td>0</td>\n      <td>0</td>\n      <td>0</td>\n      <td>0</td>\n      <td>0</td>\n      <td>0</td>\n      <td>0</td>\n      <td>0</td>\n      <td>0</td>\n      <td>0</td>\n      <td>0</td>\n      <td>0</td>\n      <td>0</td>\n    </tr>\n    <tr>\n      <th>3</th>\n      <td>0</td>\n      <td>0</td>\n      <td>0</td>\n      <td>0</td>\n      <td>0</td>\n      <td>0</td>\n      <td>0</td>\n      <td>0</td>\n      <td>0</td>\n      <td>0</td>\n      <td>0</td>\n      <td>0</td>\n      <td>0</td>\n      <td>0</td>\n      <td>0</td>\n      <td>0</td>\n      <td>0</td>\n      <td>0</td>\n      <td>0</td>\n      <td>0</td>\n      <td>0</td>\n      <td>0</td>\n      <td>0</td>\n      <td>0</td>\n      <td>0</td>\n      <td>0</td>\n      <td>0</td>\n      <td>0</td>\n      <td>0</td>\n      <td>0</td>\n      <td>0</td>\n      <td>0</td>\n      <td>0</td>\n      <td>0</td>\n      <td>0</td>\n      <td>0</td>\n      <td>0</td>\n      <td>0</td>\n      <td>0</td>\n      <td>0</td>\n      <td>0</td>\n      <td>0</td>\n      <td>0</td>\n      <td>0</td>\n      <td>0</td>\n      <td>0</td>\n      <td>0</td>\n      <td>0</td>\n      <td>0</td>\n      <td>0</td>\n      <td>0</td>\n      <td>0</td>\n      <td>0</td>\n      <td>0</td>\n      <td>0</td>\n      <td>0</td>\n      <td>0</td>\n      <td>0</td>\n      <td>0</td>\n      <td>0</td>\n      <td>0</td>\n      <td>0</td>\n      <td>0</td>\n      <td>0</td>\n      <td>0</td>\n      <td>0</td>\n      <td>0</td>\n      <td>0</td>\n      <td>0</td>\n      <td>0</td>\n      <td>0</td>\n      <td>0</td>\n      <td>0</td>\n      <td>1</td>\n      <td>0</td>\n      <td>0</td>\n      <td>0</td>\n      <td>0</td>\n      <td>0</td>\n      <td>0</td>\n      <td>0</td>\n      <td>0</td>\n      <td>0</td>\n      <td>0</td>\n      <td>0</td>\n      <td>0</td>\n      <td>0</td>\n      <td>0</td>\n      <td>0</td>\n      <td>0</td>\n      <td>0</td>\n      <td>0</td>\n      <td>0</td>\n      <td>0</td>\n      <td>0</td>\n      <td>0</td>\n      <td>0</td>\n      <td>0</td>\n      <td>0</td>\n      <td>0</td>\n      <td>0</td>\n      <td>0</td>\n      <td>0</td>\n      <td>0</td>\n      <td>0</td>\n      <td>0</td>\n      <td>0</td>\n      <td>0</td>\n      <td>0</td>\n      <td>0</td>\n      <td>0</td>\n      <td>0</td>\n      <td>0</td>\n      <td>0</td>\n      <td>0</td>\n      <td>0</td>\n      <td>0</td>\n      <td>0</td>\n      <td>0</td>\n      <td>0</td>\n      <td>0</td>\n      <td>0</td>\n      <td>0</td>\n      <td>0</td>\n      <td>0</td>\n      <td>0</td>\n      <td>0</td>\n      <td>0</td>\n      <td>0</td>\n      <td>0</td>\n      <td>1</td>\n      <td>0</td>\n      <td>0</td>\n      <td>0</td>\n      <td>0</td>\n      <td>0</td>\n      <td>0</td>\n      <td>0</td>\n      <td>0</td>\n      <td>0</td>\n      <td>0</td>\n      <td>0</td>\n      <td>0</td>\n      <td>0</td>\n      <td>0</td>\n      <td>0</td>\n      <td>0</td>\n      <td>0</td>\n      <td>0</td>\n      <td>0</td>\n      <td>0</td>\n      <td>0</td>\n      <td>0</td>\n      <td>0</td>\n      <td>0</td>\n      <td>0</td>\n      <td>0</td>\n      <td>0</td>\n      <td>0</td>\n      <td>0</td>\n      <td>0</td>\n      <td>0</td>\n      <td>0</td>\n      <td>0</td>\n      <td>0</td>\n      <td>0</td>\n      <td>0</td>\n    </tr>\n    <tr>\n      <th>4</th>\n      <td>0</td>\n      <td>0</td>\n      <td>0</td>\n      <td>0</td>\n      <td>0</td>\n      <td>0</td>\n      <td>0</td>\n      <td>0</td>\n      <td>0</td>\n      <td>0</td>\n      <td>0</td>\n      <td>0</td>\n      <td>0</td>\n      <td>0</td>\n      <td>0</td>\n      <td>0</td>\n      <td>0</td>\n      <td>0</td>\n      <td>0</td>\n      <td>0</td>\n      <td>0</td>\n      <td>0</td>\n      <td>0</td>\n      <td>0</td>\n      <td>0</td>\n      <td>0</td>\n      <td>0</td>\n      <td>0</td>\n      <td>0</td>\n      <td>0</td>\n      <td>0</td>\n      <td>0</td>\n      <td>0</td>\n      <td>0</td>\n      <td>0</td>\n      <td>0</td>\n      <td>0</td>\n      <td>0</td>\n      <td>0</td>\n      <td>0</td>\n      <td>0</td>\n      <td>0</td>\n      <td>0</td>\n      <td>0</td>\n      <td>0</td>\n      <td>0</td>\n      <td>0</td>\n      <td>0</td>\n      <td>0</td>\n      <td>0</td>\n      <td>0</td>\n      <td>0</td>\n      <td>0</td>\n      <td>0</td>\n      <td>0</td>\n      <td>0</td>\n      <td>0</td>\n      <td>0</td>\n      <td>0</td>\n      <td>0</td>\n      <td>0</td>\n      <td>0</td>\n      <td>0</td>\n      <td>0</td>\n      <td>0</td>\n      <td>0</td>\n      <td>0</td>\n      <td>0</td>\n      <td>0</td>\n      <td>0</td>\n      <td>0</td>\n      <td>0</td>\n      <td>0</td>\n      <td>0</td>\n      <td>0</td>\n      <td>0</td>\n      <td>0</td>\n      <td>0</td>\n      <td>0</td>\n      <td>0</td>\n      <td>0</td>\n      <td>0</td>\n      <td>0</td>\n      <td>0</td>\n      <td>0</td>\n      <td>0</td>\n      <td>0</td>\n      <td>0</td>\n      <td>0</td>\n      <td>0</td>\n      <td>0</td>\n      <td>0</td>\n      <td>0</td>\n      <td>0</td>\n      <td>0</td>\n      <td>0</td>\n      <td>0</td>\n      <td>0</td>\n      <td>0</td>\n      <td>0</td>\n      <td>0</td>\n      <td>0</td>\n      <td>0</td>\n      <td>0</td>\n      <td>0</td>\n      <td>0</td>\n      <td>0</td>\n      <td>0</td>\n      <td>1</td>\n      <td>0</td>\n      <td>0</td>\n      <td>0</td>\n      <td>0</td>\n      <td>0</td>\n      <td>0</td>\n      <td>0</td>\n      <td>0</td>\n      <td>0</td>\n      <td>0</td>\n      <td>0</td>\n      <td>0</td>\n      <td>0</td>\n      <td>0</td>\n      <td>0</td>\n      <td>0</td>\n      <td>0</td>\n      <td>0</td>\n      <td>0</td>\n      <td>0</td>\n      <td>0</td>\n      <td>0</td>\n      <td>0</td>\n      <td>0</td>\n      <td>0</td>\n      <td>0</td>\n      <td>0</td>\n      <td>0</td>\n      <td>0</td>\n      <td>1</td>\n      <td>0</td>\n      <td>0</td>\n      <td>0</td>\n      <td>0</td>\n      <td>0</td>\n      <td>0</td>\n      <td>0</td>\n      <td>0</td>\n      <td>0</td>\n      <td>0</td>\n      <td>0</td>\n      <td>0</td>\n      <td>0</td>\n      <td>0</td>\n      <td>0</td>\n      <td>0</td>\n      <td>0</td>\n      <td>0</td>\n      <td>0</td>\n      <td>0</td>\n      <td>0</td>\n      <td>0</td>\n      <td>0</td>\n      <td>0</td>\n      <td>0</td>\n      <td>0</td>\n      <td>0</td>\n      <td>0</td>\n    </tr>\n  </tbody>\n</table>\n</div>"
     },
     "execution_count": 4,
     "metadata": {},
     "output_type": "execute_result"
    }
   ],
   "source": [
    "encoder = TransactionEncoder()\n",
    "transactions = encoder.fit(DataFrame[\"itemDescription\"]).transform(DataFrame[\"itemDescription\"])\n",
    "transactions = transactions.astype('int')\n",
    "df = pd.DataFrame(transactions, columns=encoder.columns_)\n",
    "df.head()"
   ]
  },
  {
   "cell_type": "code",
   "execution_count": 5,
   "id": "4c3497d1-bf1f-4b9b-8085-417d47929239",
   "metadata": {
    "tags": [],
    "ExecuteTime": {
     "end_time": "2024-01-06T10:31:10.283514Z",
     "start_time": "2024-01-06T10:31:10.266986900Z"
    }
   },
   "outputs": [
    {
     "name": "stdout",
     "output_type": "stream",
     "text": [
      "(14963, 167)\n"
     ]
    },
    {
     "data": {
      "text/plain": "Instant food products    int32\nUHT-milk                 int32\nabrasive cleaner         int32\nartif. sweetener         int32\nbaby cosmetics           int32\n                         ...  \nwhite bread              int32\nwhite wine               int32\nwhole milk               int32\nyogurt                   int32\nzwieback                 int32\nLength: 167, dtype: object"
     },
     "execution_count": 5,
     "metadata": {},
     "output_type": "execute_result"
    }
   ],
   "source": [
    "print(df.shape)\n",
    "df.dtypes"
   ]
  },
  {
   "cell_type": "markdown",
   "id": "a55cb628-5211-42d7-85a8-ae7c3a184395",
   "metadata": {},
   "source": [
    "Applichiamo l'algoritmo apriori sul df per trovare il frequent itemset con supporto minimo del 2%"
   ]
  },
  {
   "cell_type": "code",
   "execution_count": 6,
   "id": "2ba79d91-254e-4018-86a1-97aa31a11210",
   "metadata": {
    "tags": [],
    "ExecuteTime": {
     "end_time": "2024-01-06T10:31:22.997545400Z",
     "start_time": "2024-01-06T10:31:21.056038100Z"
    }
   },
   "outputs": [
    {
     "data": {
      "text/plain": "(750,)"
     },
     "execution_count": 6,
     "metadata": {},
     "output_type": "execute_result"
    }
   ],
   "source": [
    "df = df.astype(\"bool\")\n",
    "frequent_itemsets=apriori(df, min_support=0.001)  \n",
    "frequent_itemsets['itemsets'].shape"
   ]
  },
  {
   "cell_type": "code",
   "execution_count": 7,
   "id": "5371fcff-9d74-4c07-b7f7-832535c833cb",
   "metadata": {
    "ExecuteTime": {
     "end_time": "2024-01-06T10:31:26.546199800Z",
     "start_time": "2024-01-06T10:31:26.506200900Z"
    }
   },
   "outputs": [
    {
     "data": {
      "text/plain": "      support         itemsets  length\n0    0.004010              (0)       1\n1    0.021386              (1)       1\n2    0.001470              (2)       1\n3    0.001938              (3)       1\n4    0.008087              (6)       1\n..        ...              ...     ...\n745  0.001136  (122, 164, 130)       3\n746  0.001002  (122, 164, 138)       3\n747  0.001337  (122, 164, 165)       3\n748  0.001069  (130, 164, 138)       3\n749  0.001470  (130, 164, 165)       3\n\n[750 rows x 3 columns]",
      "text/html": "<div>\n<style scoped>\n    .dataframe tbody tr th:only-of-type {\n        vertical-align: middle;\n    }\n\n    .dataframe tbody tr th {\n        vertical-align: top;\n    }\n\n    .dataframe thead th {\n        text-align: right;\n    }\n</style>\n<table border=\"1\" class=\"dataframe\">\n  <thead>\n    <tr style=\"text-align: right;\">\n      <th></th>\n      <th>support</th>\n      <th>itemsets</th>\n      <th>length</th>\n    </tr>\n  </thead>\n  <tbody>\n    <tr>\n      <th>0</th>\n      <td>0.004010</td>\n      <td>(0)</td>\n      <td>1</td>\n    </tr>\n    <tr>\n      <th>1</th>\n      <td>0.021386</td>\n      <td>(1)</td>\n      <td>1</td>\n    </tr>\n    <tr>\n      <th>2</th>\n      <td>0.001470</td>\n      <td>(2)</td>\n      <td>1</td>\n    </tr>\n    <tr>\n      <th>3</th>\n      <td>0.001938</td>\n      <td>(3)</td>\n      <td>1</td>\n    </tr>\n    <tr>\n      <th>4</th>\n      <td>0.008087</td>\n      <td>(6)</td>\n      <td>1</td>\n    </tr>\n    <tr>\n      <th>...</th>\n      <td>...</td>\n      <td>...</td>\n      <td>...</td>\n    </tr>\n    <tr>\n      <th>745</th>\n      <td>0.001136</td>\n      <td>(122, 164, 130)</td>\n      <td>3</td>\n    </tr>\n    <tr>\n      <th>746</th>\n      <td>0.001002</td>\n      <td>(122, 164, 138)</td>\n      <td>3</td>\n    </tr>\n    <tr>\n      <th>747</th>\n      <td>0.001337</td>\n      <td>(122, 164, 165)</td>\n      <td>3</td>\n    </tr>\n    <tr>\n      <th>748</th>\n      <td>0.001069</td>\n      <td>(130, 164, 138)</td>\n      <td>3</td>\n    </tr>\n    <tr>\n      <th>749</th>\n      <td>0.001470</td>\n      <td>(130, 164, 165)</td>\n      <td>3</td>\n    </tr>\n  </tbody>\n</table>\n<p>750 rows × 3 columns</p>\n</div>"
     },
     "execution_count": 7,
     "metadata": {},
     "output_type": "execute_result"
    }
   ],
   "source": [
    "frequent_itemsets['length'] = frequent_itemsets['itemsets'].apply(lambda x:len(x)) \n",
    "frequent_itemsets"
   ]
  },
  {
   "cell_type": "code",
   "execution_count": 8,
   "id": "025bdde6-3f64-40e0-8311-0fcd1eda06c3",
   "metadata": {
    "tags": [],
    "ExecuteTime": {
     "end_time": "2024-01-06T10:31:32.740590400Z",
     "start_time": "2024-01-06T10:31:32.676466200Z"
    }
   },
   "outputs": [
    {
     "data": {
      "text/plain": "      support itemsets  length\n146  0.157923    (164)       1\n90   0.122101    (102)       1\n109  0.110005    (122)       1\n123  0.097106    (138)       1\n147  0.085879    (165)       1",
      "text/html": "<div>\n<style scoped>\n    .dataframe tbody tr th:only-of-type {\n        vertical-align: middle;\n    }\n\n    .dataframe tbody tr th {\n        vertical-align: top;\n    }\n\n    .dataframe thead th {\n        text-align: right;\n    }\n</style>\n<table border=\"1\" class=\"dataframe\">\n  <thead>\n    <tr style=\"text-align: right;\">\n      <th></th>\n      <th>support</th>\n      <th>itemsets</th>\n      <th>length</th>\n    </tr>\n  </thead>\n  <tbody>\n    <tr>\n      <th>146</th>\n      <td>0.157923</td>\n      <td>(164)</td>\n      <td>1</td>\n    </tr>\n    <tr>\n      <th>90</th>\n      <td>0.122101</td>\n      <td>(102)</td>\n      <td>1</td>\n    </tr>\n    <tr>\n      <th>109</th>\n      <td>0.110005</td>\n      <td>(122)</td>\n      <td>1</td>\n    </tr>\n    <tr>\n      <th>123</th>\n      <td>0.097106</td>\n      <td>(138)</td>\n      <td>1</td>\n    </tr>\n    <tr>\n      <th>147</th>\n      <td>0.085879</td>\n      <td>(165)</td>\n      <td>1</td>\n    </tr>\n  </tbody>\n</table>\n</div>"
     },
     "execution_count": 8,
     "metadata": {},
     "output_type": "execute_result"
    }
   ],
   "source": [
    "# sortingthe dataframe\n",
    "frequent_itemsets= frequent_itemsets.sort_values(by='support', ascending=False) \n",
    "# findingtop 5 itemswith minimum supportof 2%\n",
    "frequent_itemsets[ (frequent_itemsets['length'] == 1) & (frequent_itemsets['support'] >= 0.02) ][0:5]"
   ]
  },
  {
   "cell_type": "code",
   "execution_count": 9,
   "id": "b86b4171-262f-4fab-82ce-1074f1c9b360",
   "metadata": {
    "tags": [],
    "ExecuteTime": {
     "end_time": "2024-01-06T10:31:38.564170400Z",
     "start_time": "2024-01-06T10:31:38.516172800Z"
    }
   },
   "outputs": [
    {
     "data": {
      "text/plain": "      support    itemsets  length\n625  0.014837  (164, 102)       2\n677  0.013968  (122, 164)       2\n717  0.011629  (138, 164)       2\n740  0.011161  (164, 165)       2\n609  0.010559  (122, 102)       2\n..        ...         ...     ...\n344  0.001002    (88, 27)       2\n201  0.001002    (27, 11)       2\n202  0.001002    (11, 28)       2\n516  0.001002   (105, 68)       2\n256  0.001002    (14, 15)       2\n\n[592 rows x 3 columns]",
      "text/html": "<div>\n<style scoped>\n    .dataframe tbody tr th:only-of-type {\n        vertical-align: middle;\n    }\n\n    .dataframe tbody tr th {\n        vertical-align: top;\n    }\n\n    .dataframe thead th {\n        text-align: right;\n    }\n</style>\n<table border=\"1\" class=\"dataframe\">\n  <thead>\n    <tr style=\"text-align: right;\">\n      <th></th>\n      <th>support</th>\n      <th>itemsets</th>\n      <th>length</th>\n    </tr>\n  </thead>\n  <tbody>\n    <tr>\n      <th>625</th>\n      <td>0.014837</td>\n      <td>(164, 102)</td>\n      <td>2</td>\n    </tr>\n    <tr>\n      <th>677</th>\n      <td>0.013968</td>\n      <td>(122, 164)</td>\n      <td>2</td>\n    </tr>\n    <tr>\n      <th>717</th>\n      <td>0.011629</td>\n      <td>(138, 164)</td>\n      <td>2</td>\n    </tr>\n    <tr>\n      <th>740</th>\n      <td>0.011161</td>\n      <td>(164, 165)</td>\n      <td>2</td>\n    </tr>\n    <tr>\n      <th>609</th>\n      <td>0.010559</td>\n      <td>(122, 102)</td>\n      <td>2</td>\n    </tr>\n    <tr>\n      <th>...</th>\n      <td>...</td>\n      <td>...</td>\n      <td>...</td>\n    </tr>\n    <tr>\n      <th>344</th>\n      <td>0.001002</td>\n      <td>(88, 27)</td>\n      <td>2</td>\n    </tr>\n    <tr>\n      <th>201</th>\n      <td>0.001002</td>\n      <td>(27, 11)</td>\n      <td>2</td>\n    </tr>\n    <tr>\n      <th>202</th>\n      <td>0.001002</td>\n      <td>(11, 28)</td>\n      <td>2</td>\n    </tr>\n    <tr>\n      <th>516</th>\n      <td>0.001002</td>\n      <td>(105, 68)</td>\n      <td>2</td>\n    </tr>\n    <tr>\n      <th>256</th>\n      <td>0.001002</td>\n      <td>(14, 15)</td>\n      <td>2</td>\n    </tr>\n  </tbody>\n</table>\n<p>592 rows × 3 columns</p>\n</div>"
     },
     "execution_count": 9,
     "metadata": {},
     "output_type": "execute_result"
    }
   ],
   "source": [
    "frequent_itemsets[(frequent_itemsets['length'] ==2) &(frequent_itemsets['support'] >=0.001)]"
   ]
  },
  {
   "cell_type": "code",
   "execution_count": 10,
   "id": "a7f1fea0-5edf-4e3e-84da-9a72ab515f6e",
   "metadata": {
    "tags": [],
    "ExecuteTime": {
     "end_time": "2024-01-06T10:31:42.161550400Z",
     "start_time": "2024-01-06T10:31:42.129557800Z"
    }
   },
   "outputs": [
    {
     "data": {
      "text/plain": "     antecedents consequents  antecedent support  consequent support  \\\n0          (164)       (102)            0.157923            0.122101   \n1          (102)       (164)            0.122101            0.157923   \n2          (122)       (164)            0.110005            0.157923   \n3          (164)       (122)            0.157923            0.110005   \n4          (138)       (164)            0.097106            0.157923   \n...          ...         ...                 ...                 ...   \n1233        (28)        (11)            0.023592            0.045312   \n1234       (105)        (68)            0.051728            0.021854   \n1235        (68)       (105)            0.021854            0.051728   \n1236        (14)        (15)            0.037626            0.035220   \n1237        (15)        (14)            0.035220            0.037626   \n\n       support  confidence      lift  leverage  conviction  zhangs_metric  \n0     0.014837    0.093948  0.769430 -0.004446    0.968928      -0.262461  \n1     0.014837    0.121511  0.769430 -0.004446    0.958551      -0.254477  \n2     0.013968    0.126974  0.804028 -0.003404    0.964550      -0.214986  \n3     0.013968    0.088447  0.804028 -0.003404    0.976350      -0.224474  \n4     0.011629    0.119752  0.758296 -0.003707    0.956636      -0.260917  \n...        ...         ...       ...       ...         ...            ...  \n1233  0.001002    0.042493  0.937790 -0.000067    0.997056      -0.063618  \n1234  0.001002    0.019380  0.886791 -0.000128    0.997477      -0.118652  \n1235  0.001002    0.045872  0.886791 -0.000128    0.993862      -0.115446  \n1236  0.001002    0.026643  0.756469 -0.000323    0.991188      -0.250666  \n1237  0.001002    0.028463  0.756469 -0.000323    0.990568      -0.250197  \n\n[1238 rows x 10 columns]",
      "text/html": "<div>\n<style scoped>\n    .dataframe tbody tr th:only-of-type {\n        vertical-align: middle;\n    }\n\n    .dataframe tbody tr th {\n        vertical-align: top;\n    }\n\n    .dataframe thead th {\n        text-align: right;\n    }\n</style>\n<table border=\"1\" class=\"dataframe\">\n  <thead>\n    <tr style=\"text-align: right;\">\n      <th></th>\n      <th>antecedents</th>\n      <th>consequents</th>\n      <th>antecedent support</th>\n      <th>consequent support</th>\n      <th>support</th>\n      <th>confidence</th>\n      <th>lift</th>\n      <th>leverage</th>\n      <th>conviction</th>\n      <th>zhangs_metric</th>\n    </tr>\n  </thead>\n  <tbody>\n    <tr>\n      <th>0</th>\n      <td>(164)</td>\n      <td>(102)</td>\n      <td>0.157923</td>\n      <td>0.122101</td>\n      <td>0.014837</td>\n      <td>0.093948</td>\n      <td>0.769430</td>\n      <td>-0.004446</td>\n      <td>0.968928</td>\n      <td>-0.262461</td>\n    </tr>\n    <tr>\n      <th>1</th>\n      <td>(102)</td>\n      <td>(164)</td>\n      <td>0.122101</td>\n      <td>0.157923</td>\n      <td>0.014837</td>\n      <td>0.121511</td>\n      <td>0.769430</td>\n      <td>-0.004446</td>\n      <td>0.958551</td>\n      <td>-0.254477</td>\n    </tr>\n    <tr>\n      <th>2</th>\n      <td>(122)</td>\n      <td>(164)</td>\n      <td>0.110005</td>\n      <td>0.157923</td>\n      <td>0.013968</td>\n      <td>0.126974</td>\n      <td>0.804028</td>\n      <td>-0.003404</td>\n      <td>0.964550</td>\n      <td>-0.214986</td>\n    </tr>\n    <tr>\n      <th>3</th>\n      <td>(164)</td>\n      <td>(122)</td>\n      <td>0.157923</td>\n      <td>0.110005</td>\n      <td>0.013968</td>\n      <td>0.088447</td>\n      <td>0.804028</td>\n      <td>-0.003404</td>\n      <td>0.976350</td>\n      <td>-0.224474</td>\n    </tr>\n    <tr>\n      <th>4</th>\n      <td>(138)</td>\n      <td>(164)</td>\n      <td>0.097106</td>\n      <td>0.157923</td>\n      <td>0.011629</td>\n      <td>0.119752</td>\n      <td>0.758296</td>\n      <td>-0.003707</td>\n      <td>0.956636</td>\n      <td>-0.260917</td>\n    </tr>\n    <tr>\n      <th>...</th>\n      <td>...</td>\n      <td>...</td>\n      <td>...</td>\n      <td>...</td>\n      <td>...</td>\n      <td>...</td>\n      <td>...</td>\n      <td>...</td>\n      <td>...</td>\n      <td>...</td>\n    </tr>\n    <tr>\n      <th>1233</th>\n      <td>(28)</td>\n      <td>(11)</td>\n      <td>0.023592</td>\n      <td>0.045312</td>\n      <td>0.001002</td>\n      <td>0.042493</td>\n      <td>0.937790</td>\n      <td>-0.000067</td>\n      <td>0.997056</td>\n      <td>-0.063618</td>\n    </tr>\n    <tr>\n      <th>1234</th>\n      <td>(105)</td>\n      <td>(68)</td>\n      <td>0.051728</td>\n      <td>0.021854</td>\n      <td>0.001002</td>\n      <td>0.019380</td>\n      <td>0.886791</td>\n      <td>-0.000128</td>\n      <td>0.997477</td>\n      <td>-0.118652</td>\n    </tr>\n    <tr>\n      <th>1235</th>\n      <td>(68)</td>\n      <td>(105)</td>\n      <td>0.021854</td>\n      <td>0.051728</td>\n      <td>0.001002</td>\n      <td>0.045872</td>\n      <td>0.886791</td>\n      <td>-0.000128</td>\n      <td>0.993862</td>\n      <td>-0.115446</td>\n    </tr>\n    <tr>\n      <th>1236</th>\n      <td>(14)</td>\n      <td>(15)</td>\n      <td>0.037626</td>\n      <td>0.035220</td>\n      <td>0.001002</td>\n      <td>0.026643</td>\n      <td>0.756469</td>\n      <td>-0.000323</td>\n      <td>0.991188</td>\n      <td>-0.250666</td>\n    </tr>\n    <tr>\n      <th>1237</th>\n      <td>(15)</td>\n      <td>(14)</td>\n      <td>0.035220</td>\n      <td>0.037626</td>\n      <td>0.001002</td>\n      <td>0.028463</td>\n      <td>0.756469</td>\n      <td>-0.000323</td>\n      <td>0.990568</td>\n      <td>-0.250197</td>\n    </tr>\n  </tbody>\n</table>\n<p>1238 rows × 10 columns</p>\n</div>"
     },
     "execution_count": 10,
     "metadata": {},
     "output_type": "execute_result"
    }
   ],
   "source": [
    "rules=association_rules(frequent_itemsets, metric='support', min_threshold=0.001) \n",
    "rules"
   ]
  },
  {
   "cell_type": "code",
   "execution_count": 11,
   "id": "beaa7926-b1fb-498d-b87b-a3d7ece47701",
   "metadata": {
    "tags": [],
    "ExecuteTime": {
     "end_time": "2024-01-06T10:31:44.387087500Z",
     "start_time": "2024-01-06T10:31:44.355091300Z"
    }
   },
   "outputs": [
    {
     "data": {
      "text/plain": "     antecedents consequents  antecedent support  consequent support  \\\n667   (130, 165)       (164)            0.005748            0.157923   \n977   (122, 130)       (164)            0.005347            0.157923   \n1079  (130, 138)       (164)            0.005948            0.157923   \n527        (132)       (164)            0.009490            0.157923   \n827   (122, 165)       (164)            0.007819            0.157923   \n666   (130, 164)       (165)            0.008955            0.085879   \n747         (45)       (164)            0.008621            0.157923   \n256         (67)       (164)            0.017109            0.157923   \n26          (11)       (164)            0.045312            0.157923   \n1088        (59)       (164)            0.006817            0.157923   \n\n       support  confidence      lift  leverage  conviction  zhangs_metric  \n667   0.001470    0.255814  1.619866  0.000563    1.131541       0.384877  \n977   0.001136    0.212500  1.345594  0.000292    1.069304       0.258214  \n1079  0.001069    0.179775  1.138374  0.000130    1.026642       0.122281  \n527   0.001671    0.176056  1.114825  0.000172    1.022008       0.103985  \n827   0.001337    0.170940  1.082428  0.000102    1.015701       0.076751  \n666   0.001470    0.164179  1.911760  0.000701    1.093681       0.481231  \n747   0.001403    0.162791  1.030824  0.000042    1.005814       0.030162  \n256   0.002740    0.160156  1.014142  0.000038    1.002659       0.014188  \n26    0.007151    0.157817  0.999330 -0.000005    0.999874      -0.000702  \n1088  0.001069    0.156863  0.993287 -0.000007    0.998743      -0.006759  ",
      "text/html": "<div>\n<style scoped>\n    .dataframe tbody tr th:only-of-type {\n        vertical-align: middle;\n    }\n\n    .dataframe tbody tr th {\n        vertical-align: top;\n    }\n\n    .dataframe thead th {\n        text-align: right;\n    }\n</style>\n<table border=\"1\" class=\"dataframe\">\n  <thead>\n    <tr style=\"text-align: right;\">\n      <th></th>\n      <th>antecedents</th>\n      <th>consequents</th>\n      <th>antecedent support</th>\n      <th>consequent support</th>\n      <th>support</th>\n      <th>confidence</th>\n      <th>lift</th>\n      <th>leverage</th>\n      <th>conviction</th>\n      <th>zhangs_metric</th>\n    </tr>\n  </thead>\n  <tbody>\n    <tr>\n      <th>667</th>\n      <td>(130, 165)</td>\n      <td>(164)</td>\n      <td>0.005748</td>\n      <td>0.157923</td>\n      <td>0.001470</td>\n      <td>0.255814</td>\n      <td>1.619866</td>\n      <td>0.000563</td>\n      <td>1.131541</td>\n      <td>0.384877</td>\n    </tr>\n    <tr>\n      <th>977</th>\n      <td>(122, 130)</td>\n      <td>(164)</td>\n      <td>0.005347</td>\n      <td>0.157923</td>\n      <td>0.001136</td>\n      <td>0.212500</td>\n      <td>1.345594</td>\n      <td>0.000292</td>\n      <td>1.069304</td>\n      <td>0.258214</td>\n    </tr>\n    <tr>\n      <th>1079</th>\n      <td>(130, 138)</td>\n      <td>(164)</td>\n      <td>0.005948</td>\n      <td>0.157923</td>\n      <td>0.001069</td>\n      <td>0.179775</td>\n      <td>1.138374</td>\n      <td>0.000130</td>\n      <td>1.026642</td>\n      <td>0.122281</td>\n    </tr>\n    <tr>\n      <th>527</th>\n      <td>(132)</td>\n      <td>(164)</td>\n      <td>0.009490</td>\n      <td>0.157923</td>\n      <td>0.001671</td>\n      <td>0.176056</td>\n      <td>1.114825</td>\n      <td>0.000172</td>\n      <td>1.022008</td>\n      <td>0.103985</td>\n    </tr>\n    <tr>\n      <th>827</th>\n      <td>(122, 165)</td>\n      <td>(164)</td>\n      <td>0.007819</td>\n      <td>0.157923</td>\n      <td>0.001337</td>\n      <td>0.170940</td>\n      <td>1.082428</td>\n      <td>0.000102</td>\n      <td>1.015701</td>\n      <td>0.076751</td>\n    </tr>\n    <tr>\n      <th>666</th>\n      <td>(130, 164)</td>\n      <td>(165)</td>\n      <td>0.008955</td>\n      <td>0.085879</td>\n      <td>0.001470</td>\n      <td>0.164179</td>\n      <td>1.911760</td>\n      <td>0.000701</td>\n      <td>1.093681</td>\n      <td>0.481231</td>\n    </tr>\n    <tr>\n      <th>747</th>\n      <td>(45)</td>\n      <td>(164)</td>\n      <td>0.008621</td>\n      <td>0.157923</td>\n      <td>0.001403</td>\n      <td>0.162791</td>\n      <td>1.030824</td>\n      <td>0.000042</td>\n      <td>1.005814</td>\n      <td>0.030162</td>\n    </tr>\n    <tr>\n      <th>256</th>\n      <td>(67)</td>\n      <td>(164)</td>\n      <td>0.017109</td>\n      <td>0.157923</td>\n      <td>0.002740</td>\n      <td>0.160156</td>\n      <td>1.014142</td>\n      <td>0.000038</td>\n      <td>1.002659</td>\n      <td>0.014188</td>\n    </tr>\n    <tr>\n      <th>26</th>\n      <td>(11)</td>\n      <td>(164)</td>\n      <td>0.045312</td>\n      <td>0.157923</td>\n      <td>0.007151</td>\n      <td>0.157817</td>\n      <td>0.999330</td>\n      <td>-0.000005</td>\n      <td>0.999874</td>\n      <td>-0.000702</td>\n    </tr>\n    <tr>\n      <th>1088</th>\n      <td>(59)</td>\n      <td>(164)</td>\n      <td>0.006817</td>\n      <td>0.157923</td>\n      <td>0.001069</td>\n      <td>0.156863</td>\n      <td>0.993287</td>\n      <td>-0.000007</td>\n      <td>0.998743</td>\n      <td>-0.006759</td>\n    </tr>\n  </tbody>\n</table>\n</div>"
     },
     "execution_count": 11,
     "metadata": {},
     "output_type": "execute_result"
    }
   ],
   "source": [
    "rules.sort_values(by='confidence', ascending=False)[0:10]"
   ]
  },
  {
   "cell_type": "code",
   "execution_count": 12,
   "id": "85dec0c1-5fd8-4f41-b798-84e543d45bd6",
   "metadata": {
    "tags": [],
    "ExecuteTime": {
     "end_time": "2024-01-06T10:31:47.426056500Z",
     "start_time": "2024-01-06T10:31:47.381024100Z"
    }
   },
   "outputs": [
    {
     "data": {
      "text/plain": "     antecedents consequents  antecedent support  consequent support  \\\n44         (130)       (138)            0.060349            0.097106   \n45         (138)       (130)            0.097106            0.060349   \n48         (130)       (165)            0.060349            0.085879   \n49         (165)       (130)            0.085879            0.060349   \n70          (56)       (102)            0.037760            0.122101   \n...          ...         ...                 ...                 ...   \n1223       (123)        (73)            0.069572            0.013700   \n1226       (122)       (131)            0.110005            0.007084   \n1227       (131)       (122)            0.007084            0.110005   \n1228        (88)        (27)            0.032213            0.027869   \n1229        (27)        (88)            0.027869            0.032213   \n\n       support  confidence      lift  leverage  conviction  zhangs_metric  \n44    0.005948    0.098560  1.014975  0.000088    1.001613       0.015702  \n45    0.005948    0.061253  1.014975  0.000088    1.000963       0.016341  \n48    0.005748    0.095238  1.108986  0.000565    1.010345       0.104587  \n49    0.005748    0.066926  1.108986  0.000565    1.007049       0.107508  \n70    0.005146    0.136283  1.116150  0.000536    1.016420       0.108146  \n...        ...         ...       ...       ...         ...            ...  \n1223  0.001002    0.014409  1.051733  0.000049    1.000719       0.052866  \n1226  0.001002    0.009113  1.286395  0.000223    1.002048       0.250151  \n1227  0.001002    0.141509  1.286395  0.000223    1.036698       0.224222  \n1228  0.001002    0.031120  1.116675  0.000105    1.003356       0.107962  \n1229  0.001002    0.035971  1.116675  0.000105    1.003899       0.107480  \n\n[240 rows x 10 columns]",
      "text/html": "<div>\n<style scoped>\n    .dataframe tbody tr th:only-of-type {\n        vertical-align: middle;\n    }\n\n    .dataframe tbody tr th {\n        vertical-align: top;\n    }\n\n    .dataframe thead th {\n        text-align: right;\n    }\n</style>\n<table border=\"1\" class=\"dataframe\">\n  <thead>\n    <tr style=\"text-align: right;\">\n      <th></th>\n      <th>antecedents</th>\n      <th>consequents</th>\n      <th>antecedent support</th>\n      <th>consequent support</th>\n      <th>support</th>\n      <th>confidence</th>\n      <th>lift</th>\n      <th>leverage</th>\n      <th>conviction</th>\n      <th>zhangs_metric</th>\n    </tr>\n  </thead>\n  <tbody>\n    <tr>\n      <th>44</th>\n      <td>(130)</td>\n      <td>(138)</td>\n      <td>0.060349</td>\n      <td>0.097106</td>\n      <td>0.005948</td>\n      <td>0.098560</td>\n      <td>1.014975</td>\n      <td>0.000088</td>\n      <td>1.001613</td>\n      <td>0.015702</td>\n    </tr>\n    <tr>\n      <th>45</th>\n      <td>(138)</td>\n      <td>(130)</td>\n      <td>0.097106</td>\n      <td>0.060349</td>\n      <td>0.005948</td>\n      <td>0.061253</td>\n      <td>1.014975</td>\n      <td>0.000088</td>\n      <td>1.000963</td>\n      <td>0.016341</td>\n    </tr>\n    <tr>\n      <th>48</th>\n      <td>(130)</td>\n      <td>(165)</td>\n      <td>0.060349</td>\n      <td>0.085879</td>\n      <td>0.005748</td>\n      <td>0.095238</td>\n      <td>1.108986</td>\n      <td>0.000565</td>\n      <td>1.010345</td>\n      <td>0.104587</td>\n    </tr>\n    <tr>\n      <th>49</th>\n      <td>(165)</td>\n      <td>(130)</td>\n      <td>0.085879</td>\n      <td>0.060349</td>\n      <td>0.005748</td>\n      <td>0.066926</td>\n      <td>1.108986</td>\n      <td>0.000565</td>\n      <td>1.007049</td>\n      <td>0.107508</td>\n    </tr>\n    <tr>\n      <th>70</th>\n      <td>(56)</td>\n      <td>(102)</td>\n      <td>0.037760</td>\n      <td>0.122101</td>\n      <td>0.005146</td>\n      <td>0.136283</td>\n      <td>1.116150</td>\n      <td>0.000536</td>\n      <td>1.016420</td>\n      <td>0.108146</td>\n    </tr>\n    <tr>\n      <th>...</th>\n      <td>...</td>\n      <td>...</td>\n      <td>...</td>\n      <td>...</td>\n      <td>...</td>\n      <td>...</td>\n      <td>...</td>\n      <td>...</td>\n      <td>...</td>\n      <td>...</td>\n    </tr>\n    <tr>\n      <th>1223</th>\n      <td>(123)</td>\n      <td>(73)</td>\n      <td>0.069572</td>\n      <td>0.013700</td>\n      <td>0.001002</td>\n      <td>0.014409</td>\n      <td>1.051733</td>\n      <td>0.000049</td>\n      <td>1.000719</td>\n      <td>0.052866</td>\n    </tr>\n    <tr>\n      <th>1226</th>\n      <td>(122)</td>\n      <td>(131)</td>\n      <td>0.110005</td>\n      <td>0.007084</td>\n      <td>0.001002</td>\n      <td>0.009113</td>\n      <td>1.286395</td>\n      <td>0.000223</td>\n      <td>1.002048</td>\n      <td>0.250151</td>\n    </tr>\n    <tr>\n      <th>1227</th>\n      <td>(131)</td>\n      <td>(122)</td>\n      <td>0.007084</td>\n      <td>0.110005</td>\n      <td>0.001002</td>\n      <td>0.141509</td>\n      <td>1.286395</td>\n      <td>0.000223</td>\n      <td>1.036698</td>\n      <td>0.224222</td>\n    </tr>\n    <tr>\n      <th>1228</th>\n      <td>(88)</td>\n      <td>(27)</td>\n      <td>0.032213</td>\n      <td>0.027869</td>\n      <td>0.001002</td>\n      <td>0.031120</td>\n      <td>1.116675</td>\n      <td>0.000105</td>\n      <td>1.003356</td>\n      <td>0.107962</td>\n    </tr>\n    <tr>\n      <th>1229</th>\n      <td>(27)</td>\n      <td>(88)</td>\n      <td>0.027869</td>\n      <td>0.032213</td>\n      <td>0.001002</td>\n      <td>0.035971</td>\n      <td>1.116675</td>\n      <td>0.000105</td>\n      <td>1.003899</td>\n      <td>0.107480</td>\n    </tr>\n  </tbody>\n</table>\n<p>240 rows × 10 columns</p>\n</div>"
     },
     "execution_count": 12,
     "metadata": {},
     "output_type": "execute_result"
    }
   ],
   "source": [
    "rules[(rules['support'] >=0.001) &(rules['lift'] >1.0)]"
   ]
  },
  {
   "cell_type": "code",
   "execution_count": null,
   "id": "692114b3-d649-4943-ae3d-3435fed3e0fa",
   "metadata": {},
   "outputs": [],
   "source": []
  }
 ],
 "metadata": {
  "kernelspec": {
   "display_name": "Python 3 (ipykernel)",
   "language": "python",
   "name": "python3"
  },
  "language_info": {
   "codemirror_mode": {
    "name": "ipython",
    "version": 3
   },
   "file_extension": ".py",
   "mimetype": "text/x-python",
   "name": "python",
   "nbconvert_exporter": "python",
   "pygments_lexer": "ipython3",
   "version": "3.10.10"
  }
 },
 "nbformat": 4,
 "nbformat_minor": 5
}
